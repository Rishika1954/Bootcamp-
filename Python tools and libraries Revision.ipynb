{
 "cells": [
  {
   "cell_type": "markdown",
   "metadata": {},
   "source": [
    "- Questions on the following topics covered so far:-\n",
    "\n",
    "1. NumPy\n",
    "2. Pandas\n",
    "3. Matplotib\n",
    "4. Seaborn "
   ]
  },
  {
   "cell_type": "markdown",
   "metadata": {},
   "source": [
    "Q1. Seaborn and Pandas - Create a Scatter Plot.\n",
    "\n",
    "Load the iris dataset using Seaborn and create a scatter plot to visualize the relationship between sepal_length and sepal_width. Color the points based on the species."
   ]
  },
  {
   "cell_type": "code",
   "execution_count": null,
   "metadata": {},
   "outputs": [],
   "source": [
    "import seaborn as sns\n",
    "import pandas as pd\n",
    "import matplotlib.pyplot as plt\n",
    "\n",
    "# Load iris dataset\n",
    "iris = sns.load_dataset('iris')\n",
    "\n",
    "# Create scatter plot\n",
    "plt.figure(figsize=(10, 6))\n",
    "sns.scatterplot(data=iris, x='sepal_length', y='sepal_width', hue='species')\n",
    "plt.title('Scatter Plot of Sepal Length vs Sepal Width')\n",
    "plt.show()"
   ]
  },
  {
   "cell_type": "markdown",
   "metadata": {},
   "source": [
    "Q2: Matplotlib and NumPy - Plot a Sine Wave.\n",
    "\n",
    "Generate an array of values from 0 to 2π using NumPy and plot a sine wave using Matplotlib."
   ]
  },
  {
   "cell_type": "code",
   "execution_count": null,
   "metadata": {},
   "outputs": [],
   "source": [
    "import numpy as np\n",
    "import matplotlib.pyplot as plt\n",
    "\n",
    "# Generate values\n",
    "x = np.linspace(0, 2 * np.pi, 100)\n",
    "y = np.sin(x)\n",
    "\n",
    "# Plot sine wave\n",
    "plt.figure(figsize=(10, 6))\n",
    "plt.plot(x, y, label='Sine Wave')\n",
    "plt.xlabel('x')\n",
    "plt.ylabel('sin(x)')\n",
    "plt.title('Sine Wave')\n",
    "plt.legend()\n",
    "plt.show()"
   ]
  },
  {
   "cell_type": "markdown",
   "metadata": {},
   "source": [
    "Q3. Pandas - Handling Missing Data.\n",
    "\n",
    "Load a dataset with missing values and demonstrate how to handle missing data by filling the null values with the mean of the column."
   ]
  },
  {
   "cell_type": "code",
   "execution_count": null,
   "metadata": {},
   "outputs": [],
   "source": [
    "import pandas as pd\n",
    "\n",
    "# Create example DataFrame with missing values\n",
    "data = pd.DataFrame({\n",
    "    'A': [1, 2, None, 4, 5],\n",
    "    'B': [None, 2, 3, None, 5],\n",
    "    'C': [1, None, None, 4, None]\n",
    "})\n",
    "\n",
    "# Fill missing values with the mean of the column\n",
    "data_filled = data.fillna(data.mean())\n",
    "print(data_filled)"
   ]
  },
  {
   "cell_type": "markdown",
   "metadata": {},
   "source": [
    "Q4.Seaborn and Matplotlib - Create a Box Plot\n",
    "\n",
    "Load the tips dataset from Seaborn and create a box plot to show the distribution of total bills for each day of the week."
   ]
  },
  {
   "cell_type": "code",
   "execution_count": null,
   "metadata": {},
   "outputs": [],
   "source": [
    "import seaborn as sns\n",
    "import matplotlib.pyplot as plt\n",
    "\n",
    "# Load tips dataset\n",
    "tips = sns.load_dataset('tips')\n",
    "\n",
    "# Create box plot\n",
    "plt.figure(figsize=(10, 6))\n",
    "sns.boxplot(data=tips, x='day', y='total_bill')\n",
    "plt.title('Box Plot of Total Bills by Day')\n",
    "plt.show()"
   ]
  },
  {
   "cell_type": "markdown",
   "metadata": {},
   "source": [
    "Q5. Pandas and NumPy - Data Manipulation\n",
    "\n",
    "Create a DataFrame with random values and add a new column that is the square of an existing column."
   ]
  },
  {
   "cell_type": "code",
   "execution_count": null,
   "metadata": {},
   "outputs": [],
   "source": [
    "import pandas as pd\n",
    "import numpy as np\n",
    "\n",
    "# Create DataFrame with random values\n",
    "df = pd.DataFrame({\n",
    "    'A': np.random.rand(10),\n",
    "    'B': np.random.rand(10)\n",
    "})\n",
    "\n",
    "# Add new column that is the square of column A\n",
    "df['A_squared'] = df['A'] ** 2\n",
    "print(df)"
   ]
  },
  {
   "cell_type": "markdown",
   "metadata": {},
   "source": [
    "Q6. Seaborn and Matplotlib - Create a Histogram\n",
    "\n",
    "Load the diamonds dataset from Seaborn and create a histogram to visualize the distribution of diamond prices."
   ]
  },
  {
   "cell_type": "code",
   "execution_count": null,
   "metadata": {},
   "outputs": [],
   "source": [
    "import seaborn as sns\n",
    "import matplotlib.pyplot as plt\n",
    "\n",
    "# Load diamonds dataset\n",
    "diamonds = sns.load_dataset('diamonds')\n",
    "\n",
    "# Create histogram\n",
    "plt.figure(figsize=(10, 6))\n",
    "sns.histplot(diamonds['price'], bins=50, kde=True)\n",
    "plt.title('Histogram of Diamond Prices')\n",
    "plt.show()"
   ]
  },
  {
   "cell_type": "markdown",
   "metadata": {},
   "source": [
    "Q7. Pandas - Grouping and Aggregation\n",
    "\n",
    "Load the titanic dataset from Seaborn and calculate the average age of passengers for each class."
   ]
  },
  {
   "cell_type": "code",
   "execution_count": null,
   "metadata": {},
   "outputs": [],
   "source": [
    "import seaborn as sns\n",
    "import pandas as pd\n",
    "\n",
    "# Load titanic dataset\n",
    "titanic = sns.load_dataset('titanic')\n",
    "\n",
    "# Calculate average age of passengers for each class\n",
    "average_age = titanic.groupby('class')['age'].mean()\n",
    "print(average_age)"
   ]
  },
  {
   "cell_type": "markdown",
   "metadata": {},
   "source": [
    "Q8.  Matplotlib and NumPy - Multiple Subplots\n",
    "\n",
    "Create a 2x2 grid of subplots using Matplotlib, each showing a different mathematical function (sine, cosine, tangent, and exponential)."
   ]
  },
  {
   "cell_type": "code",
   "execution_count": null,
   "metadata": {},
   "outputs": [],
   "source": [
    "import numpy as np\n",
    "import matplotlib.pyplot as plt\n",
    "\n",
    "# Generate values\n",
    "x = np.linspace(0, 2 * np.pi, 100)\n",
    "\n",
    "# Create subplots\n",
    "fig, axs = plt.subplots(2, 2, figsize=(12, 8))\n",
    "\n",
    "# Sine\n",
    "axs[0, 0].plot(x, np.sin(x))\n",
    "axs[0, 0].set_title('Sine')\n",
    "\n",
    "# Cosine\n",
    "axs[0, 1].plot(x, np.cos(x))\n",
    "axs[0, 1].set_title('Cosine')\n",
    "\n",
    "# Tangent\n",
    "axs[1, 0].plot(x, np.tan(x))\n",
    "axs[1, 0].set_title('Tangent')\n",
    "\n",
    "# Exponential\n",
    "axs[1, 1].plot(x, np.exp(x))\n",
    "axs[1, 1].set_title('Exponential')\n",
    "\n",
    "plt.tight_layout()\n",
    "plt.show()"
   ]
  }
 ],
 "metadata": {
  "language_info": {
   "name": "python"
  }
 },
 "nbformat": 4,
 "nbformat_minor": 2
}
