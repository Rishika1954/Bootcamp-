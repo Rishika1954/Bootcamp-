{
 "cells": [
  {
   "cell_type": "markdown",
   "metadata": {},
   "source": [
    "- Pandas: A Library for Handling Structured Data in Python\n",
    "\n",
    "Pandas is a powerful and flexible Python library used for data manipulation and analysis. It is built on top of NumPy and provides data structures like Series and DataFrame, which make data analysis tasks easier and more efficient.\n",
    "\n",
    "Key features of Pandas include:\n",
    "1. DataFrames and Series: Pandas uses DataFrames (2D tables) and Series (1D arrays) to represent structured data, similar to tables in a database or Excel.\n",
    "2. Comprehensive Data Operations: Pandas provides tools for filtering, sorting, grouping, merging, concatenating, pivoting, and reshaping data.\n",
    "3. Handling Missing Data: Pandas offers various methods to detect and handle missing or null values.\n",
    "4. Integration with Other Libraries: Pandas integrates well with other Python libraries used in data science, such as NumPy, SciPy, and Matplotlib.\n",
    "\n",
    "Pandas is an essential tool for data science and analysis because it simplifies data manipulation, enhances productivity, and integrates with other data science libraries. By using Pandas, data scientists can focus more on analysis and modeling, confident that their data is properly structured and cleaned."
   ]
  },
  {
   "cell_type": "markdown",
   "metadata": {},
   "source": [
    "1. Create a DataFrame\n",
    "\n",
    "Q1: Create a DataFrame from a dictionary of lists. The dictionary should have keys 'Name', 'Age', 'City', and 'Salary'. Populate the DataFrame with at least 5 entries."
   ]
  },
  {
   "cell_type": "code",
   "execution_count": null,
   "metadata": {},
   "outputs": [],
   "source": [
    "import pandas as pd\n",
    "\n",
    "# Create a dictionary of lists\n",
    "data = {\n",
    "    'Name': ['Alice', 'Bob', 'Charlie', 'David', 'Eva'],\n",
    "    'Age': [24, 27, 22, 32, 29],\n",
    "    'City': ['New York', 'Los Angeles', 'Chicago', 'Houston', 'Phoenix'],\n",
    "    'Salary': [70000, 80000, 75000, 90000, 85000]\n",
    "}\n",
    "\n",
    "# Create a DataFrame\n",
    "df = pd.DataFrame(data)\n",
    "\n",
    "# Display the DataFrame\n",
    "print(df)"
   ]
  },
  {
   "cell_type": "markdown",
   "metadata": {},
   "source": [
    "2. Filter DataFrame\n",
    "\n",
    "Q2: Filter the DataFrame to show only the rows where the Age is greater than 25."
   ]
  },
  {
   "cell_type": "code",
   "execution_count": null,
   "metadata": {},
   "outputs": [],
   "source": [
    "# Filter the DataFrame\n",
    "filtered_df = df[df['Age'] > 25]\n",
    "\n",
    "# Display the filtered DataFrame\n",
    "print(filtered_df)"
   ]
  },
  {
   "cell_type": "markdown",
   "metadata": {},
   "source": [
    "3. Add a New Column\n",
    "\n",
    "Q3: Add a new column 'Bonus' to the DataFrame, where the bonus is 10% of the Salary."
   ]
  },
  {
   "cell_type": "code",
   "execution_count": null,
   "metadata": {},
   "outputs": [],
   "source": [
    "# Add a new column 'Bonus'\n",
    "df['Bonus'] = df['Salary'] * 0.10\n",
    "\n",
    "# Display the updated DataFrame\n",
    "print(df)"
   ]
  },
  {
   "cell_type": "markdown",
   "metadata": {},
   "source": [
    "4. Group By\n",
    "\n",
    "Q4: Group the DataFrame by 'City' and calculate the average Salary for each city."
   ]
  },
  {
   "cell_type": "code",
   "execution_count": null,
   "metadata": {},
   "outputs": [],
   "source": [
    "# Group by 'City' and calculate the average Salary\n",
    "grouped_df = df.groupby('City')['Salary'].mean().reset_index()\n",
    "\n",
    "# Display the grouped DataFrame\n",
    "print(grouped_df)"
   ]
  },
  {
   "cell_type": "markdown",
   "metadata": {},
   "source": [
    "5. Merge DataFrames\n",
    "\n",
    "Q5: Merge two DataFrames on the 'Name' column. The second DataFrame should have columns 'Name' and 'Department'."
   ]
  },
  {
   "cell_type": "code",
   "execution_count": null,
   "metadata": {},
   "outputs": [],
   "source": [
    "# Create the second DataFrame\n",
    "data2 = {\n",
    "    'Name': ['Alice', 'Bob', 'Charlie', 'David', 'Eva'],\n",
    "    'Department': ['HR', 'Finance', 'IT', 'Marketing', 'Sales']\n",
    "}\n",
    "\n",
    "df2 = pd.DataFrame(data2)\n",
    "\n",
    "# Merge the DataFrames\n",
    "merged_df = pd.merge(df, df2, on='Name')\n",
    "\n",
    "# Display the merged DataFrame\n",
    "print(merged_df)"
   ]
  },
  {
   "cell_type": "markdown",
   "metadata": {},
   "source": [
    "6. Handle Missing Data\n",
    "\n",
    "Q6: Create a DataFrame with missing values and fill the missing values with the mean of the column."
   ]
  },
  {
   "cell_type": "code",
   "execution_count": null,
   "metadata": {},
   "outputs": [],
   "source": [
    "import numpy as np\n",
    "\n",
    "# Create a DataFrame with missing values\n",
    "data_with_nan = {\n",
    "    'Name': ['Alice', 'Bob', 'Charlie', 'David', 'Eva'],\n",
    "    'Age': [24, np.nan, 22, 32, 29],\n",
    "    'City': ['New York', 'Los Angeles', 'Chicago', np.nan, 'Phoenix'],\n",
    "    'Salary': [70000, 80000, np.nan, 90000, 85000]\n",
    "}\n",
    "\n",
    "df_with_nan = pd.DataFrame(data_with_nan)\n",
    "\n",
    "# Fill missing values with the mean of the column\n",
    "df_with_nan['Age'].fillna(df_with_nan['Age'].mean(), inplace=True)\n",
    "df_with_nan['Salary'].fillna(df_with_nan['Salary'].mean(), inplace=True)\n",
    "df_with_nan['City'].fillna('Unknown', inplace=True)\n",
    "\n",
    "# Display the DataFrame with filled values\n",
    "print(df_with_nan)"
   ]
  },
  {
   "cell_type": "markdown",
   "metadata": {},
   "source": [
    "7. Pivot Table\n",
    "\n",
    "Q7: Create a pivot table from the original DataFrame showing the average Salary for each Age group."
   ]
  },
  {
   "cell_type": "code",
   "execution_count": null,
   "metadata": {},
   "outputs": [],
   "source": [
    "# Create a pivot table\n",
    "pivot_table = df.pivot_table(values='Salary', index='Age', aggfunc='mean')\n",
    "\n",
    "# Display the pivot table\n",
    "print(pivot_table)"
   ]
  },
  {
   "cell_type": "markdown",
   "metadata": {},
   "source": [
    "8. Apply Function\n",
    "\n",
    "Q8: Apply a custom function to the 'Salary' column that increases each salary by 5%."
   ]
  },
  {
   "cell_type": "code",
   "execution_count": null,
   "metadata": {},
   "outputs": [],
   "source": [
    "# Define a custom function\n",
    "def increase_salary(salary):\n",
    "    return salary * 1.05\n",
    "\n",
    "# Apply the custom function to the 'Salary' column\n",
    "df['Increased Salary'] = df['Salary'].apply(increase_salary)\n",
    "\n",
    "# Display the updated DataFrame\n",
    "print(df)"
   ]
  },
  {
   "cell_type": "markdown",
   "metadata": {},
   "source": [
    "9. Read and Write CSV\n",
    "\n",
    "Q9: Save the DataFrame to a CSV file and then read it back into a new DataFrame."
   ]
  },
  {
   "cell_type": "code",
   "execution_count": null,
   "metadata": {},
   "outputs": [],
   "source": [
    "# Save the DataFrame to a CSV file\n",
    "df.to_csv('data.csv', index=False)\n",
    "\n",
    "# Read the CSV file into a new DataFrame\n",
    "new_df = pd.read_csv('data.csv')\n",
    "\n",
    "# Display the new DataFrame\n",
    "print(new_df)"
   ]
  },
  {
   "cell_type": "markdown",
   "metadata": {},
   "source": [
    "10. Multi-indexing\n",
    "\n",
    "Q10: Create a DataFrame with a multi-index (Name, City) and sort it by the index."
   ]
  },
  {
   "cell_type": "code",
   "execution_count": null,
   "metadata": {},
   "outputs": [],
   "source": [
    "# Create a DataFrame with a multi-index\n",
    "multi_index_df = df.set_index(['Name', 'City'])\n",
    "\n",
    "# Sort the DataFrame by the index\n",
    "sorted_multi_index_df = multi_index_df.sort_index()\n",
    "\n",
    "# Display the sorted multi-index DataFrame\n",
    "print(sorted_multi_index_df)"
   ]
  }
 ],
 "metadata": {
  "language_info": {
   "name": "python"
  }
 },
 "nbformat": 4,
 "nbformat_minor": 2
}
