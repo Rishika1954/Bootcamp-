{
 "cells": [
  {
   "cell_type": "markdown",
   "metadata": {},
   "source": [
    "List \n",
    "1. list is a mutable, ordered sequence of elements. Lists can contain elements of different types, such as integers, strings, and other lists. \n",
    "\n",
    "Practice Questions for List :-"
   ]
  },
  {
   "cell_type": "code",
   "execution_count": null,
   "metadata": {},
   "outputs": [],
   "source": [
    "# Removing duplicates from a list while maintaining order:\n",
    "\n",
    "def remove_duplicates(lst):\n",
    "    seen = set()\n",
    "    result = []\n",
    "    for item in lst:\n",
    "        if item not in seen:\n",
    "            seen.add(item)\n",
    "            result.append(item)\n",
    "    return result\n",
    "\n",
    "lst = [1, 2, 2, 3, 4, 4, 5]\n",
    "print(remove_duplicates(lst))"
   ]
  },
  {
   "cell_type": "code",
   "execution_count": null,
   "metadata": {},
   "outputs": [],
   "source": [
    "# Find the intersection of two lists\n",
    "\n",
    "def intersection(lst1, lst2):\n",
    "    return list(set(lst1) & set(lst2))\n",
    "\n",
    "lst1 = [1, 2, 3, 4, 5]\n",
    "lst2 = [4, 5, 6, 7, 8]\n",
    "print(intersection(lst1, lst2))"
   ]
  },
  {
   "cell_type": "code",
   "execution_count": null,
   "metadata": {},
   "outputs": [],
   "source": [
    "# Generate all permutations of a list\n",
    "\n",
    "import itertools\n",
    "\n",
    "def permutations(lst):\n",
    "    return list(itertools.permutations(lst))\n",
    "\n",
    "lst = [1, 2, 3]\n",
    "print(permutations(lst))"
   ]
  },
  {
   "cell_type": "code",
   "execution_count": null,
   "metadata": {},
   "outputs": [],
   "source": [
    "# Find all subsets of a list\n",
    "\n",
    "def subsets(lst):\n",
    "    result = [[]]\n",
    "    for num in lst:\n",
    "        result += [curr + [num] for curr in result]\n",
    "    return result\n",
    "\n",
    "lst = [1, 2, 3]\n",
    "print(subsets(lst))"
   ]
  },
  {
   "cell_type": "markdown",
   "metadata": {},
   "source": [
    "Tuples \n",
    "1. A tuple is a data structure that is an ordered collection of elements.\n",
    "\n",
    "Practice Questions on Tuples :-"
   ]
  },
  {
   "cell_type": "code",
   "execution_count": null,
   "metadata": {},
   "outputs": [],
   "source": [
    "# Given a nested tuple, write a function to flatten it into a single tuple.\n",
    "\n",
    "def flatten_tuple(nested_tuple):\n",
    "    flat_tuple = ()\n",
    "    for item in nested_tuple:\n",
    "        if isinstance(item, tuple):\n",
    "            flat_tuple += flatten_tuple(item)\n",
    "        else:\n",
    "            flat_tuple += (item,)\n",
    "    return flat_tuple\n",
    "\n",
    "# Test the function\n",
    "nested_tuple = (1, (2, 3), (4, (5, 6)), 7)\n",
    "print(flatten_tuple(nested_tuple))  "
   ]
  },
  {
   "cell_type": "code",
   "execution_count": null,
   "metadata": {},
   "outputs": [],
   "source": [
    "# Write a function that counts the number of times each element appears in a tuple and returns a dictionary with the elements as keys and their counts as values.\n",
    "\n",
    "def count_elements(t):\n",
    "    counts = {}\n",
    "    for item in t:\n",
    "        counts[item] = counts.get(item, 0) + 1\n",
    "    return counts\n",
    "\n",
    "# Test the function\n",
    "t = (1, 2, 2, 3, 3, 3, 4, 4, 4, 4)\n",
    "print(count_elements(t))  \n",
    "# Output: {1: 1, 2: 2, 3: 3, 4: 4}"
   ]
  },
  {
   "cell_type": "code",
   "execution_count": null,
   "metadata": {},
   "outputs": [],
   "source": [
    "# Write a function that rotates the elements of a tuple n places to the left.\n",
    "\n",
    "def rotate_tuple(t, n):\n",
    "    return t[n:] + t[:n]\n",
    "\n",
    "# Test the function\n",
    "t = (1, 2, 3, 4, 5)\n",
    "print(rotate_tuple(t, 2))  # Output: (3, 4, 5, 1, 2)"
   ]
  },
  {
   "cell_type": "code",
   "execution_count": null,
   "metadata": {},
   "outputs": [],
   "source": [
    "# Write a function that reverses the elements in a tuple.\n",
    "\n",
    "def reverse_tuple(t):\n",
    "    return t[::-1]\n",
    "\n",
    "# Test the function\n",
    "t = (1, 2, 3, 4, 5)\n",
    "print(reverse_tuple(t))  # Output: (5, 4, 3, 2, 1)"
   ]
  },
  {
   "cell_type": "markdown",
   "metadata": {},
   "source": [
    "Strings\n",
    "1. a string is a sequence of characters enclosed within single quotes ('...'), double quotes (\"...\"), triple single quotes ('''...'''), or triple double quotes (\"\"\"...\"\"\"). Strings are immutable, meaning once they are created, their content cannot be changed.\n",
    "\n",
    "Practice Questions on Strings:-"
   ]
  },
  {
   "cell_type": "code",
   "execution_count": null,
   "metadata": {},
   "outputs": [],
   "source": [
    "# Write a function that takes a string and returns it reversed.\n",
    "\n",
    "def reverse_string(s):\n",
    "    return s[::-1]\n",
    "\n",
    "# Example usage:\n",
    "print(reverse_string(\"hello\"))  # Output: \"olleh\"\n",
    "print(reverse_string(\"Python\")) # Output: \"nohtyP\""
   ]
  },
  {
   "cell_type": "code",
   "execution_count": null,
   "metadata": {},
   "outputs": [],
   "source": [
    "# Write a function that checks if a given string is a palindrome (reads the same backward as forward).\n",
    "\n",
    "def is_palindrome(s):\n",
    "    return s == s[::-1]\n",
    "\n",
    "# Example usage:\n",
    "print(is_palindrome(\"racecar\"))  # Output: True\n",
    "print(is_palindrome(\"hello\"))    # Output: False "
   ]
  },
  {
   "cell_type": "code",
   "execution_count": null,
   "metadata": {},
   "outputs": [],
   "source": [
    "# Write a function that counts the number of vowels in a given string.\n",
    "\n",
    "def count_vowels(s):\n",
    "    vowels = \"aeiouAEIOU\"\n",
    "    return sum(1 for char in s if char in vowels)\n",
    "\n",
    "# Example usage:\n",
    "print(count_vowels(\"hello\"))     # Output: 2\n",
    "print(count_vowels(\"Python\"))    # Output: 1"
   ]
  },
  {
   "cell_type": "markdown",
   "metadata": {},
   "source": [
    "Dictionary \n",
    "1.a dictionary is a collection of key-value pairs where each key is unique. Dictionaries are mutable, meaning they can be changed after they are created. \n",
    "\n",
    "Practice Questions :-"
   ]
  },
  {
   "cell_type": "code",
   "execution_count": null,
   "metadata": {},
   "outputs": [],
   "source": [
    "# Count the frequency of elements:\n",
    "\n",
    "def count_frequency(lst):\n",
    "    frequency = {}\n",
    "    for item in lst:\n",
    "        if item in frequency:\n",
    "            frequency[item] += 1\n",
    "        else:\n",
    "            frequency[item] = 1\n",
    "    return frequency\n",
    "\n",
    "# Example usage\n",
    "sample_list = [\"apple\", \"banana\", \"apple\", \"orange\", \"banana\", \"apple\"]\n",
    "print(count_frequency(sample_list))  \n",
    "# Output: {'apple': 3, 'banana': 2, 'orange': 1}\n"
   ]
  },
  {
   "cell_type": "code",
   "execution_count": null,
   "metadata": {},
   "outputs": [],
   "source": [
    "# Merge two dictionaries:\n",
    "\n",
    "def merge_dicts(dict1, dict2):\n",
    "    merged_dict = dict1.copy()  # Make a copy of dict1\n",
    "    merged_dict.update(dict2)   # Update with dict2\n",
    "    return merged_dict\n",
    "\n",
    "# Example usage\n",
    "dict1 = {\"a\": 1, \"b\": 2}\n",
    "dict2 = {\"b\": 3, \"c\": 4}\n",
    "print(merge_dicts(dict1, dict2))  \n",
    "# Output: {'a': 1, 'b': 3, 'c': 4}"
   ]
  },
  {
   "cell_type": "code",
   "execution_count": null,
   "metadata": {},
   "outputs": [],
   "source": [
    "# Square of Numbers:\n",
    "\n",
    "def square_numbers(numbers):\n",
    "    return {num: num ** 2 for num in numbers}\n",
    "\n",
    "print(square_numbers([1, 2, 3, 4]))  # Output: {1: 1, 2: 4, 3: 9, 4: 16}"
   ]
  },
  {
   "cell_type": "code",
   "execution_count": null,
   "metadata": {},
   "outputs": [],
   "source": [
    "# Reverse a Dictionary:\n",
    "\n",
    "def reverse_dict(d):\n",
    "    return {value: key for key, value in d.items()}\n",
    "\n",
    "print(reverse_dict({'a': 1, 'b': 2, 'c': 3}))  # Output: {1: 'a', 2: 'b', 3: 'c'}"
   ]
  },
  {
   "cell_type": "markdown",
   "metadata": {},
   "source": [
    "Sets\n",
    "1. A set is an unordered collection of unique items. Sets are defined by using curly braces {} or the set() function.\n",
    "\n",
    "Practice Questions :-"
   ]
  },
  {
   "cell_type": "code",
   "execution_count": null,
   "metadata": {},
   "outputs": [],
   "source": [
    "# Create a set containing the numbers 1, 2, 3, and 4. Then print the set.\n",
    "\n",
    "my_set = {1, 2, 3, 4}\n",
    "print(my_set)"
   ]
  },
  {
   "cell_type": "code",
   "execution_count": null,
   "metadata": {},
   "outputs": [],
   "source": [
    "# Add the number 5 to the set {1, 2, 3, 4}. Then print the set.\n",
    "\n",
    "my_set = {1, 2, 3, 4}\n",
    "my_set.add(5)\n",
    "print(my_set)"
   ]
  },
  {
   "cell_type": "code",
   "execution_count": null,
   "metadata": {},
   "outputs": [],
   "source": [
    "# Remove the number 2 from the set {1, 2, 3, 4}. Then print the set.\n",
    "\n",
    "my_set = {1, 2, 3, 4}\n",
    "my_set.remove(2)\n",
    "print(my_set)"
   ]
  },
  {
   "cell_type": "code",
   "execution_count": null,
   "metadata": {},
   "outputs": [],
   "source": [
    "# Convert the list [1, 2, 2, 3, 4, 4, 5] to a set and print the set.\n",
    "\n",
    "my_list = [1, 2, 2, 3, 4, 4, 5]\n",
    "my_set = set(my_list)\n",
    "print(my_set)"
   ]
  }
 ],
 "metadata": {
  "language_info": {
   "name": "python"
  }
 },
 "nbformat": 4,
 "nbformat_minor": 2
}
