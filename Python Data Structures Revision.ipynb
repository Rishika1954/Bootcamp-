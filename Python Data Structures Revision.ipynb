{
 "cells": [
  {
   "cell_type": "markdown",
   "metadata": {},
   "source": [
    "Python Data Structures \n",
    "\n",
    "Python, provides a variety of built-in data structures that help organize and store data efficiently.These data structures is fundamental for effective coding, data manipulation, and problem-solving. Data structures cater to various data management needs whether handling large datasets, performing complex computations, or developing robust applications.The essential data structures in Python includes lists, tuples, dictionaries, sets, arrays, and strings."
   ]
  },
  {
   "cell_type": "markdown",
   "metadata": {},
   "source": [
    "Lists :-\n",
    "\n",
    "Description: Lists are ordered collections of items that can be of different types. They are mutable, meaning you can change their content without changing their identity.\n",
    "\n",
    "Key Characteristics:\n",
    "\n",
    "Ordered: Elements have a defined order.\n",
    "Mutable: Elements can be changed.\n",
    "Indexable: Elements can be accessed by their position (index)."
   ]
  },
  {
   "cell_type": "code",
   "execution_count": null,
   "metadata": {},
   "outputs": [],
   "source": [
    "# Q1. Write a function to flatten a nested list.\n",
    "\n",
    "def flatten(nested_list):\n",
    "    flat_list = []\n",
    "    for item in nested_list:\n",
    "        if isinstance(item, list):\n",
    "            flat_list.extend(flatten(item))\n",
    "        else:\n",
    "            flat_list.append(item)\n",
    "    return flat_list\n",
    "\n",
    "nested_list = [1, [2, [3, 4], 5], 6, [7, 8]]\n",
    "print(flatten(nested_list))"
   ]
  },
  {
   "cell_type": "code",
   "execution_count": null,
   "metadata": {},
   "outputs": [],
   "source": [
    "# Q2. Write a function to find all pairs in a list that sum up to a specific value.\n",
    "\n",
    "def find_pairs(lst, target):\n",
    "    pairs = []\n",
    "    seen = {}\n",
    "    for number in lst:\n",
    "        complement = target - number\n",
    "        if complement in seen:\n",
    "            pairs.append((complement, number))\n",
    "        seen[number] = True\n",
    "    return pairs\n",
    "\n",
    "lst = [1, 2, 3, 4, 5, 6]\n",
    "target = 7\n",
    "print(find_pairs(lst, target))"
   ]
  },
  {
   "cell_type": "code",
   "execution_count": null,
   "metadata": {},
   "outputs": [],
   "source": [
    "# Q3. Write a function to partition a list into two lists: one with elements less than a given pivot and one with elements greater than or equal to the pivot.\n",
    "\n",
    "def partition(lst, pivot):\n",
    "    less_than_pivot = [x for x in lst if x < pivot]\n",
    "    greater_equal_pivot = [x for x in lst if x >= pivot]\n",
    "    return less_than_pivot, greater_equal_pivot\n",
    "\n",
    "lst = [1, 4, 3, 2, 5, 6]\n",
    "pivot = 4\n",
    "print(partition(lst, pivot))"
   ]
  },
  {
   "cell_type": "code",
   "execution_count": null,
   "metadata": {},
   "outputs": [],
   "source": [
    "# Q4. Write a function to find the k-th largest element in an unsorted list.\n",
    "\n",
    "import heapq\n",
    "\n",
    "def kth_largest(lst, k):\n",
    "    return heapq.nlargest(k, lst)[-1]\n",
    "\n",
    "lst = [3, 2, 1, 5, 6, 4]\n",
    "k = 2\n",
    "print(kth_largest(lst, k))"
   ]
  },
  {
   "cell_type": "code",
   "execution_count": null,
   "metadata": {},
   "outputs": [],
   "source": [
    "# Q5. Write a function to find all subsets of a list.\n",
    "\n",
    "def subsets(lst):\n",
    "    result = [[]]\n",
    "    for num in lst:\n",
    "        result += [curr + [num] for curr in result]\n",
    "    return result\n",
    "\n",
    "lst = [1, 2, 3]\n",
    "print(subsets(lst))"
   ]
  },
  {
   "cell_type": "markdown",
   "metadata": {},
   "source": [
    "Tuples:-\n",
    "\n",
    "Description: Tuples are similar to lists but are immutable, meaning once a tuple is created, it cannot be modified. They are used to store a fixed collection of items.\n",
    "\n",
    "Key Characteristics:\n",
    "\n",
    "Ordered: Elements have a defined order.\n",
    "Immutable: Elements cannot be changed.\n",
    "Indexable: Elements can be accessed by their position (index)."
   ]
  },
  {
   "cell_type": "code",
   "execution_count": null,
   "metadata": {},
   "outputs": [],
   "source": [
    "# Q1. Write a function that takes a tuple and an integer n, and returns a new tuple with the element at index n removed.\n",
    "\n",
    "def remove_element(t, n):\n",
    "    return t[:n] + t[n+1:]\n",
    "\n",
    "# Test the function\n",
    "t = (1, 2, 3, 4, 5)"
   ]
  },
  {
   "cell_type": "code",
   "execution_count": null,
   "metadata": {},
   "outputs": [],
   "source": [
    "# Q2. Given a tuple of multiple elements, write a function that unpacks the first three elements into separate variables and returns them.\n",
    "\n",
    "def unpack_tuple(t):\n",
    "    # Unpack the first three elements\n",
    "    a, b, c, *rest = t\n",
    "    return a, b, c\n",
    "\n",
    "# Test the function\n",
    "t = (1, 2, 3, 4, 5)\n",
    "print(unpack_tuple(t))  "
   ]
  },
  {
   "cell_type": "code",
   "execution_count": null,
   "metadata": {},
   "outputs": [],
   "source": [
    "# Q3. Write a function that takes two tuples and returns a tuple of tuples, where each tuple contains elements from the input tuples at the same position. Then, write a function to unzip such a tuple of tuples back into the original two tuples.\n",
    "\n",
    "def zip_tuples(t1, t2):\n",
    "    return tuple(zip(t1, t2))\n",
    "\n",
    "def unzip_tuples(t):\n",
    "    return tuple(map(tuple, zip(*t)))\n",
    "\n",
    "# Test the functions\n",
    "t1 = (1, 2, 3)\n",
    "t2 = ('a', 'b', 'c')\n",
    "zipped = zip_tuples(t1, t2)\n",
    "print(zipped)  \n",
    "unzipped = unzip_tuples(zipped)\n",
    "print(unzipped)  "
   ]
  },
  {
   "cell_type": "code",
   "execution_count": null,
   "metadata": {},
   "outputs": [],
   "source": [
    "# Q4. Write a function that filters elements in a tuple based on a given predicate function.\n",
    "\n",
    "def filter_tuple(t, predicate):\n",
    "    return tuple(x for x in t if predicate(x))\n",
    "\n",
    "# Test the function\n",
    "t = (1, 2, 3, 4, 5, 6)\n",
    "is_even = lambda x: x % 2 == 0\n",
    "print(filter_tuple(t, is_even))  "
   ]
  },
  {
   "cell_type": "code",
   "execution_count": null,
   "metadata": {},
   "outputs": [],
   "source": [
    "# Q5. Write a function that takes two numbers and returns their sum and product as a tuple.\n",
    "\n",
    "def sum_and_product(a, b):\n",
    "    return a + b, a * b\n",
    "\n",
    "result = sum_and_product(3, 4)\n",
    "print(result) "
   ]
  },
  {
   "cell_type": "markdown",
   "metadata": {},
   "source": [
    "Dictionaries \n",
    "\n",
    "Description: Dictionaries are unordered collections of key-value pairs. They are mutable and can store data in a way that allows for fast retrieval based on the key.\n",
    "\n",
    "Key Characteristics:\n",
    "\n",
    "Unordered: No defined order for key-value pairs.\n",
    "Mutable: Key-value pairs can be added or changed.\n",
    "Key-based access: Elements are accessed by their key.\n"
   ]
  },
  {
   "cell_type": "code",
   "execution_count": null,
   "metadata": {},
   "outputs": [],
   "source": [
    "# Q1. Write a function key_with_max_value that takes a dictionary and returns the key with the maximum value.\n",
    "\n",
    "def key_with_max_value(d):\n",
    "    return max(d, key=d.get)\n",
    "\n",
    "# Example usage:\n",
    "sample_dict = {'a': 10, 'b': 5, 'c': 8}\n",
    "print(key_with_max_value(sample_dict)) "
   ]
  },
  {
   "cell_type": "code",
   "execution_count": null,
   "metadata": {},
   "outputs": [],
   "source": [
    "# Q2. Write a function word_occurrences that takes a list of sentences and returns a dictionary with the count of each word across all sentences.\n",
    "\n",
    "def word_occurrences(sentences):\n",
    "    from collections import Counter\n",
    "    words = [word for sentence in sentences for word in sentence.split()]\n",
    "    return dict(Counter(words))\n",
    "\n",
    "# Example usage:\n",
    "sentences = [\"hello world\", \"hello\", \"world world\"]\n",
    "print(word_occurrences(sentences))"
   ]
  },
  {
   "cell_type": "code",
   "execution_count": null,
   "metadata": {},
   "outputs": [],
   "source": [
    "# Q3. Write a function find_missing_keys that takes a dictionary and a list of keys, and returns a dictionary with the missing keys and a default value of None.\n",
    "\n",
    "def find_missing_keys(d, keys):\n",
    "    return {key: None for key in keys if key not in d}\n",
    "\n",
    "# Example usage:\n",
    "sample_dict = {'a': 1, 'b': 2}\n",
    "keys_list = ['a', 'b', 'c']\n",
    "print(find_missing_keys(sample_dict, keys_list))"
   ]
  },
  {
   "cell_type": "code",
   "execution_count": null,
   "metadata": {},
   "outputs": [],
   "source": [
    "# Q4. Write a function filter_by_value_range that takes a dictionary and a range (min, max), and returns a dictionary with keys that have values within the range.\n",
    "\n",
    "def filter_by_value_range(d, min_val, max_val):\n",
    "    return {k: v for k, v in d.items() if min_val <= v <= max_val}\n",
    "\n",
    "# Example usage:\n",
    "sample_dict = {'a': 1, 'b': 5, 'c': 10}\n",
    "min_value = 1\n",
    "max_value = 5\n",
    "print(filter_by_value_range(sample_dict, min_value, max_value))"
   ]
  },
  {
   "cell_type": "code",
   "execution_count": null,
   "metadata": {},
   "outputs": [],
   "source": [
    "# Q5. Write a function factorials_dict that takes an integer n and returns a dictionary where the keys are integers from 1 to n and the values are their factorials.\n",
    "\n",
    "def factorials_dict(n):\n",
    "    from math import factorial\n",
    "    return {i: factorial(i) for i in range(1, n+1)}\n",
    "\n",
    "# Example usage:\n",
    "n = 5\n",
    "print(factorials_dict(n))"
   ]
  },
  {
   "cell_type": "markdown",
   "metadata": {},
   "source": [
    "Sets:-\n",
    "\n",
    "Description: Sets are unordered collections of unique items. They are mutable and commonly used for membership testing, removing duplicates from a sequence, and mathematical operations like union, intersection, difference, and symmetric difference.\n",
    "\n",
    "Key Characteristics:\n",
    "\n",
    "Unordered: No defined order.\n",
    "Mutable: Elements can be added or removed.\n",
    "Unique: No duplicate elements."
   ]
  },
  {
   "cell_type": "code",
   "execution_count": null,
   "metadata": {},
   "outputs": [],
   "source": [
    "# Q1. Find the intersection of three sets {1, 2, 3}, {2, 3, 4}, and {3, 4, 5}. Then print the resulting set.\n",
    "\n",
    "set1 = {1, 2, 3}\n",
    "set2 = {2, 3, 4}\n",
    "set3 = {3, 4, 5}\n",
    "intersection_set = set1.intersection(set2, set3)\n",
    "print(intersection_set)"
   ]
  },
  {
   "cell_type": "code",
   "execution_count": null,
   "metadata": {},
   "outputs": [],
   "source": [
    "# Q2. Find the symmetric difference of four sets {1, 2, 3}, {2, 3, 4}, {3, 4, 5}, and {4, 5, 6}. Then print the resulting set.\n",
    "\n",
    "set1 = {1, 2, 3}\n",
    "set2 = {2, 3, 4}\n",
    "set3 = {3, 4, 5}\n",
    "set4 = {4, 5, 6}\n",
    "symmetric_difference_set = set1.symmetric_difference(set2, set3, set4)\n",
    "print(symmetric_difference_set)"
   ]
  },
  {
   "cell_type": "code",
   "execution_count": null,
   "metadata": {},
   "outputs": [],
   "source": [
    "# Q3. Generate a set of squares of numbers from 1 to 10 using set comprehension. Print the resulting set.\n",
    "\n",
    "squares_set = {x*x for x in range(1, 11)}\n",
    "print(squares_set)"
   ]
  },
  {
   "cell_type": "code",
   "execution_count": null,
   "metadata": {},
   "outputs": [],
   "source": [
    "# Q4. Given two strings 'hello' and 'world', find the union and intersection of their character sets. Print the results.\n",
    "\n",
    "string1 = 'hello'\n",
    "string2 = 'world'\n",
    "set1 = set(string1)\n",
    "set2 = set(string2)\n",
    "union_set = set1 | set2\n",
    "intersection_set = set1 & set2\n",
    "print(f\"Union: {union_set}\")\n",
    "print(f\"Intersection: {intersection_set}\")"
   ]
  },
  {
   "cell_type": "code",
   "execution_count": null,
   "metadata": {},
   "outputs": [],
   "source": [
    "# Q5. Given two tuples (1, 2, 3) and (2, 3, 4), find the difference and symmetric difference of their element sets. Print the results.\n",
    "\n",
    "tuple1 = (1, 2, 3)\n",
    "tuple2 = (2, 3, 4)\n",
    "set1 = set(tuple1)\n",
    "set2 = set(tuple2)\n",
    "difference_set = set1 - set2\n",
    "symmetric_difference_set = set1 ^ set2\n",
    "print(f\"Difference: {difference_set}\")\n",
    "print(f\"Symmetric Difference: {symmetric_difference_set}\")"
   ]
  }
 ],
 "metadata": {
  "language_info": {
   "name": "python"
  }
 },
 "nbformat": 4,
 "nbformat_minor": 2
}
