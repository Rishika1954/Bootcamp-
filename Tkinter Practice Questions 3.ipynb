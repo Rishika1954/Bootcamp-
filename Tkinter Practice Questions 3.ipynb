{
 "cells": [
  {
   "cell_type": "markdown",
   "metadata": {},
   "source": [
    "Python Practice Questions :-"
   ]
  },
  {
   "cell_type": "markdown",
   "metadata": {},
   "source": [
    "1. Create a Tkinter window with a popup menu that appears when you right-click anywhere in the window. The popup menu should have options \"Option 1\", \"Option 2\", and \"Option 3\", and display a message box with the selected option when clicked."
   ]
  },
  {
   "cell_type": "code",
   "execution_count": null,
   "metadata": {},
   "outputs": [],
   "source": [
    "import tkinter as tk\n",
    "from tkinter import messagebox\n",
    "\n",
    "def show_popup(event):\n",
    "    popup_menu.post(event.x_root, event.y_root)\n",
    "\n",
    "def option1():\n",
    "    messagebox.showinfo(\"Popup Menu\", \"Option 1 selected\")\n",
    "\n",
    "def option2():\n",
    "    messagebox.showinfo(\"Popup Menu\", \"Option 2 selected\")\n",
    "\n",
    "def option3():\n",
    "    messagebox.showinfo(\"Popup Menu\", \"Option 3 selected\")\n",
    "\n",
    "\n",
    "root = tk.Tk()\n",
    "root.title(\"Popup Menu Example\")\n",
    "root.geometry(\"300x200\")\n",
    "\n",
    "\n",
    "popup_menu = tk.Menu(root, tearoff=0)\n",
    "popup_menu.add_command(label=\"Option 1\", command=option1)\n",
    "popup_menu.add_command(label=\"Option 2\", command=option2)\n",
    "popup_menu.add_command(label=\"Option 3\", command=option3)\n",
    "\n",
    "\n",
    "root.bind(\"<Button-3>\", show_popup)\n",
    "\n",
    "\n",
    "root.mainloop()\n"
   ]
  },
  {
   "cell_type": "markdown",
   "metadata": {},
   "source": [
    "2. Create a Tkinter window with a Notebook widget containing three tabs labeled \"Tab 1\", \"Tab 2\", and \"Tab 3\". Each tab should contain a label with the tab name."
   ]
  },
  {
   "cell_type": "code",
   "execution_count": null,
   "metadata": {},
   "outputs": [],
   "source": [
    "import tkinter as tk\n",
    "from tkinter import ttk\n",
    "\n",
    "\n",
    "root = tk.Tk()\n",
    "root.title(\"Notebook Example\")\n",
    "root.geometry(\"400x300\")\n",
    "\n",
    "\n",
    "notebook = ttk.Notebook(root)\n",
    "notebook.pack(expand=True, fill=\"both\")\n",
    "\n",
    "\n",
    "tab1 = tk.Frame(notebook)\n",
    "tab2 = tk.Frame(notebook)\n",
    "tab3 = tk.Frame(notebook)\n",
    "\n",
    "\n",
    "notebook.add(tab1, text=\"Tab 1\")\n",
    "notebook.add(tab2, text=\"Tab 2\")\n",
    "notebook.add(tab3, text=\"Tab 3\")\n",
    "\n",
    "\n",
    "tk.Label(tab1, text=\"This is Tab 1\").pack(pady=20)\n",
    "tk.Label(tab2, text=\"This is Tab 2\").pack(pady=20)\n",
    "tk.Label(tab3, text=\"This is Tab 3\").pack(pady=20)\n",
    "\n",
    "\n",
    "root.mainloop()\n"
   ]
  },
  {
   "cell_type": "markdown",
   "metadata": {},
   "source": [
    "3. Create a Tkinter window with a horizontal PanedWindow containing two frames. Add a label to each frame."
   ]
  },
  {
   "cell_type": "code",
   "execution_count": null,
   "metadata": {},
   "outputs": [],
   "source": [
    "import tkinter as tk\n",
    "\n",
    "\n",
    "root = tk.Tk()\n",
    "root.title(\"PanedWindow Example\")\n",
    "root.geometry(\"400x200\")\n",
    "\n",
    "\n",
    "paned_window = tk.PanedWindow(root, orient=tk.HORIZONTAL)\n",
    "paned_window.pack(fill=tk.BOTH, expand=True)\n",
    "\n",
    "\n",
    "left_frame = tk.Frame(paned_window, bg=\"lightblue\", width=200, height=200)\n",
    "right_frame = tk.Frame(paned_window, bg=\"lightgreen\", width=200, height=200)\n",
    "\n",
    "\n",
    "paned_window.add(left_frame)\n",
    "paned_window.add(right_frame)\n",
    "\n",
    "\n",
    "tk.Label(left_frame, text=\"Left Frame\").pack(pady=20)\n",
    "tk.Label(right_frame, text=\"Right Frame\").pack(pady=20)\n",
    "\n",
    "\n",
    "root.mainloop()\n"
   ]
  },
  {
   "cell_type": "markdown",
   "metadata": {},
   "source": [
    "4.  Create a Tkinter window with a status bar at the bottom that displays \"Ready\"."
   ]
  },
  {
   "cell_type": "code",
   "execution_count": null,
   "metadata": {},
   "outputs": [],
   "source": [
    "import tkinter as tk\n",
    "\n",
    "\n",
    "root = tk.Tk()\n",
    "root.title(\"Status Bar Example\")\n",
    "root.geometry(\"300x200\")\n",
    "\n",
    "\n",
    "status_bar = tk.Label(root, text=\"Ready\", bd=1, relief=tk.SUNKEN, anchor=tk.W)\n",
    "status_bar.pack(side=tk.BOTTOM, fill=tk.X)\n",
    "\n",
    "\n",
    "root.mainloop()\n"
   ]
  },
  {
   "cell_type": "markdown",
   "metadata": {},
   "source": [
    "5. Create a Tkinter window with an entry field that only allows numeric input. Display an error message if non-numeric input is entered."
   ]
  },
  {
   "cell_type": "code",
   "execution_count": null,
   "metadata": {},
   "outputs": [],
   "source": [
    "import tkinter as tk\n",
    "from tkinter import messagebox\n",
    "\n",
    "def validate_input(P):\n",
    "    if P.isdigit() or P == \"\":\n",
    "        return True\n",
    "    else:\n",
    "        messagebox.showerror(\"Invalid Input\", \"Please enter only numbers\")\n",
    "        return False\n",
    "\n",
    "\n",
    "root = tk.Tk()\n",
    "root.title(\"Entry Validation Example\")\n",
    "root.geometry(\"300x200\")\n",
    "\n",
    "\n",
    "vcmd = (root.register(validate_input), '%P')\n",
    "\n",
    "\n",
    "entry = tk.Entry(root, validate=\"key\", validatecommand=vcmd)\n",
    "entry.pack(pady=20)\n",
    "\n",
    "\n",
    "root.mainloop()\n"
   ]
  },
  {
   "cell_type": "markdown",
   "metadata": {},
   "source": [
    "6. Create a Tkinter window with a slider and a progress bar. The progress bar's value should be controlled by the slider."
   ]
  },
  {
   "cell_type": "code",
   "execution_count": null,
   "metadata": {},
   "outputs": [],
   "source": [
    "import tkinter as tk\n",
    "from tkinter import ttk\n",
    "\n",
    "def update_progress(value):\n",
    "    progress_bar['value'] = int(value)\n",
    "\n",
    "\n",
    "root = tk.Tk()\n",
    "root.title(\"Slider and Progress Bar Example\")\n",
    "root.geometry(\"300x200\")\n",
    "\n",
    "\n",
    "slider = tk.Scale(root, from_=0, to=100, orient=tk.HORIZONTAL, command=update_progress)\n",
    "slider.pack(pady=20)\n",
    "\n",
    "\n",
    "progress_bar = ttk.Progressbar(root, orient=tk.HORIZONTAL, length=200, mode='determinate')\n",
    "progress_bar.pack(pady=20)\n",
    "\n",
    "\n",
    "root.mainloop()\n"
   ]
  }
 ],
 "metadata": {
  "language_info": {
   "name": "python"
  }
 },
 "nbformat": 4,
 "nbformat_minor": 2
}
