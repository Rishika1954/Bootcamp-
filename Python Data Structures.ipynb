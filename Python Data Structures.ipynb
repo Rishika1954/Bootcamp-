{
 "cells": [
  {
   "cell_type": "markdown",
   "metadata": {},
   "source": [
    "Python Data Structures \n",
    "\n",
    "Python, provides a variety of built-in data structures that help organize and store data efficiently.These data structures is fundamental for effective coding, data manipulation, and problem-solving. Data structures cater to various data management needs whether handling large datasets, performing complex computations, or developing robust applications.The essential data structures in Python includes lists, tuples, dictionaries, sets, arrays, and strings."
   ]
  },
  {
   "cell_type": "markdown",
   "metadata": {},
   "source": [
    "Lists :-\n",
    "\n",
    "Description: Lists are ordered collections of items that can be of different types. They are mutable, meaning you can change their content without changing their identity.\n",
    "\n",
    "Key Characteristics:\n",
    "\n",
    "Ordered: Elements have a defined order.\n",
    "Mutable: Elements can be changed.\n",
    "Indexable: Elements can be accessed by their position (index)."
   ]
  },
  {
   "cell_type": "code",
   "execution_count": null,
   "metadata": {},
   "outputs": [],
   "source": [
    "# Q1. How do you access the element '3' from the nested list [[1, 2, 3], [4, 5, 6]]?\n",
    "\n",
    "nested_list = [[1, 2, 3], [4, 5, 6]]\n",
    "element = nested_list[0][2] "
   ]
  },
  {
   "cell_type": "code",
   "execution_count": null,
   "metadata": {},
   "outputs": [],
   "source": [
    "# Q2. Write a for loop to print each element of the list [1, 2, 3, 4, 5].\n",
    "\n",
    "my_list = [1, 2, 3, 4, 5]\n",
    "for element in my_list:\n",
    "    print(element)"
   ]
  },
  {
   "cell_type": "code",
   "execution_count": null,
   "metadata": {},
   "outputs": [],
   "source": [
    "# Q3. Write a function to zip two lists [1, 2, 3] and ['a', 'b', 'c'] into a list of tuples [(1, 'a'), (2, 'b'), (3, 'c')].\n",
    "\n",
    "def zip_lists(list1, list2):\n",
    "    return list(zip(list1, list2))\n",
    "\n",
    "list1 = [1, 2, 3]\n",
    "list2 = ['a', 'b', 'c']\n",
    "zipped_list = zip_lists(list1, list2)  "
   ]
  },
  {
   "cell_type": "code",
   "execution_count": null,
   "metadata": {},
   "outputs": [],
   "source": [
    "# Q4. Write a function to find common elements in two lists [1, 2, 3, 4] and [3, 4, 5, 6].\n",
    "\n",
    "def find_common_elements(list1, list2):\n",
    "    return list(set(list1) & set(list2))\n",
    "\n",
    "list1 = [1, 2, 3, 4]\n",
    "list2 = [3, 4, 5, 6]\n",
    "common_elements = find_common_elements(list1, list2) "
   ]
  },
  {
   "cell_type": "code",
   "execution_count": null,
   "metadata": {},
   "outputs": [],
   "source": [
    "# Q5. Write a function to compute the Cartesian product of two lists [1, 2] and ['a', 'b'].\n",
    "\n",
    "import itertools\n",
    "\n",
    "def cartesian_product(list1, list2):\n",
    "    return list(itertools.product(list1, list2))\n",
    "\n",
    "list1 = [1, 2]\n",
    "list2 = ['a', 'b']\n",
    "cartesian_product_result = cartesian_product(list1, list2)  "
   ]
  },
  {
   "cell_type": "markdown",
   "metadata": {},
   "source": [
    "Tuples:-\n",
    "\n",
    "Description: Tuples are similar to lists but are immutable, meaning once a tuple is created, it cannot be modified. They are used to store a fixed collection of items.\n",
    "\n",
    "Key Characteristics:\n",
    "\n",
    "Ordered: Elements have a defined order.\n",
    "Immutable: Elements cannot be changed.\n",
    "Indexable: Elements can be accessed by their position (index)."
   ]
  },
  {
   "cell_type": "code",
   "execution_count": null,
   "metadata": {},
   "outputs": [],
   "source": [
    "# Q1. Given the tuple t = (10, 20, 20, 30, 40, 50), how do you count the occurrences of the value 20?\n",
    "\n",
    "t = (10, 20, 20, 30, 40, 50)\n",
    "print(t.count(20))  "
   ]
  },
  {
   "cell_type": "code",
   "execution_count": null,
   "metadata": {},
   "outputs": [],
   "source": [
    "# Q2.  Given the tuple t = (1, 2, 3, 4, 5, 3, 3), find the index of the first occurrence of 3 and slice the tuple from this index to the end.\n",
    "\n",
    "t = (1, 2, 3, 4, 5, 3, 3)\n",
    "index_of_first_3 = t.index(3)\n",
    "sliced_tuple = t[index_of_first_3:]\n",
    "print(sliced_tuple)  "
   ]
  },
  {
   "cell_type": "code",
   "execution_count": null,
   "metadata": {},
   "outputs": [],
   "source": [
    "# Q3. Given a nested tuple t = ((1, 2), (3, 4), (5, (6, 7))), how do you access the value 7?\n",
    "\n",
    "t = ((1, 2), (3, 4), (5, (6, 7)))\n",
    "value = t[2][1][1]\n",
    "print(value)  "
   ]
  },
  {
   "cell_type": "code",
   "execution_count": null,
   "metadata": {},
   "outputs": [],
   "source": [
    "# Q4. Find the common elements between two tuples t1 = (1, 2, 3, 4) and t2 = (3, 4, 5, 6).\n",
    "\n",
    "t1 = (1, 2, 3, 4)\n",
    "t2 = (3, 4, 5, 6)\n",
    "common_elements = tuple(set(t1) & set(t2))\n",
    "print(common_elements)  "
   ]
  },
  {
   "cell_type": "code",
   "execution_count": null,
   "metadata": {},
   "outputs": [],
   "source": [
    "# Q5. Write a function that takes two numbers and returns their sum and product as a tuple.\n",
    "\n",
    "def sum_and_product(a, b):\n",
    "    return a + b, a * b\n",
    "\n",
    "result = sum_and_product(3, 4)\n",
    "print(result) "
   ]
  },
  {
   "cell_type": "markdown",
   "metadata": {},
   "source": [
    "Dictionaries \n",
    "\n",
    "Description: Dictionaries are unordered collections of key-value pairs. They are mutable and can store data in a way that allows for fast retrieval based on the key.\n",
    "\n",
    "Key Characteristics:\n",
    "\n",
    "Unordered: No defined order for key-value pairs.\n",
    "Mutable: Key-value pairs can be added or changed.\n",
    "Key-based access: Elements are accessed by their key.\n"
   ]
  },
  {
   "cell_type": "code",
   "execution_count": null,
   "metadata": {},
   "outputs": [],
   "source": [
    "# Q1. Use the get method to access the value associated with the key 'b' in the dictionary d = {'a': 1, 'b': 2, 'c': 3}, and provide a default value of 0 if the key does not exist.\n",
    "\n",
    "d = {'a': 1, 'b': 2, 'c': 3}\n",
    "value = d.get('b', 0)\n",
    "print(value)  "
   ]
  },
  {
   "cell_type": "code",
   "execution_count": null,
   "metadata": {},
   "outputs": [],
   "source": [
    "# Q2. Update the value of the key 'a' to 10 in the dictionary d = {'a': 1, 'b': 2, 'c': 3}.\n",
    "\n",
    "d = {'a': 1, 'b': 2, 'c': 3}\n",
    "d['a'] = 10\n",
    "print(d)  "
   ]
  },
  {
   "cell_type": "code",
   "execution_count": null,
   "metadata": {},
   "outputs": [],
   "source": [
    "# Q3. Create a nested dictionary to represent the following data: a student with name 'John', age 20, and courses ['Math', 'Science']. Access the student's first course.\n",
    "\n",
    "student = {\n",
    "    'name': 'John',\n",
    "    'age': 20,\n",
    "    'courses': ['Math', 'Science']\n",
    "}\n",
    "first_course = student['courses'][0]\n",
    "print(first_course)  "
   ]
  },
  {
   "cell_type": "code",
   "execution_count": null,
   "metadata": {},
   "outputs": [],
   "source": [
    "# Q4. Merge two dictionaries d1 = {'a': 1, 'b': 2} and d2 = {'b': 3, 'c': 4} using the update method. What is the resulting dictionary?\n",
    "\n",
    "d1 = {'a': 1, 'b': 2}\n",
    "d2 = {'b': 3, 'c': 4}\n",
    "d1.update(d2)\n",
    "print(d1)  "
   ]
  },
  {
   "cell_type": "code",
   "execution_count": null,
   "metadata": {},
   "outputs": [],
   "source": [
    "# Q5. Create a dictionary where each key is a letter from 'a' to 'c', and each value is an empty list. Append the value 1 to the list for key 'a'.\n",
    "\n",
    "d = {char: [] for char in 'abc'}\n",
    "d['a'].append(1)\n",
    "print(d)  # Output: {'a': [1], 'b': [], 'c': []}"
   ]
  },
  {
   "cell_type": "markdown",
   "metadata": {},
   "source": [
    "Sets:-\n",
    "\n",
    "Description: Sets are unordered collections of unique items. They are mutable and commonly used for membership testing, removing duplicates from a sequence, and mathematical operations like union, intersection, difference, and symmetric difference.\n",
    "\n",
    "Key Characteristics:\n",
    "\n",
    "Unordered: No defined order.\n",
    "Mutable: Elements can be added or removed.\n",
    "Unique: No duplicate elements."
   ]
  },
  {
   "cell_type": "code",
   "execution_count": null,
   "metadata": {},
   "outputs": [],
   "source": [
    "# Q1. Find the intersection of the sets s1 = {1, 2, 3} and s2 = {3, 4, 5}.\n",
    "\n",
    "s1 = {1, 2, 3}\n",
    "s2 = {3, 4, 5}\n",
    "intersection_set = s1 & s2\n",
    "print(intersection_set) "
   ]
  },
  {
   "cell_type": "code",
   "execution_count": null,
   "metadata": {},
   "outputs": [],
   "source": [
    "# Q2. Find the union of the sets s1 = {1, 2, 3} and s2 = {3, 4, 5}.\n",
    "\n",
    "s1 = {1, 2, 3}\n",
    "s2 = {3, 4, 5}\n",
    "union_set = s1 | s2\n",
    "print(union_set)  "
   ]
  },
  {
   "cell_type": "code",
   "execution_count": null,
   "metadata": {},
   "outputs": [],
   "source": [
    "# Q3. Check if the set s1 = {1, 2} is a subset of s2 = {1, 2, 3} and if s2 is a superset of s1.\n",
    "\n",
    "s1 = {1, 2}\n",
    "s2 = {1, 2, 3}\n",
    "is_subset = s1.issubset(s2)\n",
    "is_superset = s2.issuperset(s1)\n",
    "print(is_subset)  \n",
    "print(is_superset)  "
   ]
  },
  {
   "cell_type": "code",
   "execution_count": null,
   "metadata": {},
   "outputs": [],
   "source": [
    "# Q4. Given a list l = [1, 2, 2, 3, 4, 4, 5], remove duplicates using a set.\n",
    "\n",
    "l = [1, 2, 2, 3, 4, 4, 5]\n",
    "unique_set = set(l)\n",
    "unique_list = list(unique_set)\n",
    "print(unique_list)  "
   ]
  },
  {
   "cell_type": "code",
   "execution_count": null,
   "metadata": {},
   "outputs": [],
   "source": [
    "# Q5. Given three sets s1 = {1, 2, 3}, s2 = {2, 3, 4}, and s3 = {3, 4, 5}, find the common elements in all three sets.\n",
    "\n",
    "s1 = {1, 2, 3}\n",
    "s2 = {2, 3, 4}\n",
    "s3 = {3, 4, 5}\n",
    "common_elements = s1 & s2 & s3\n",
    "print(common_elements) "
   ]
  }
 ],
 "metadata": {
  "language_info": {
   "name": "python"
  }
 },
 "nbformat": 4,
 "nbformat_minor": 2
}
