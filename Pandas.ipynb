{
 "cells": [
  {
   "cell_type": "markdown",
   "metadata": {},
   "source": [
    "- Data Manipulation in Data Science and Analysis\n",
    "\n",
    "Data manipulation is a fundamental skill in data science and analysis, enabling data professionals to transform, clean, and reshape datasets for further exploration and modeling. Pandas, a powerful Python library, is integral to this process. Let's explore the significance of data manipulation, the role of Pandas, and the benefits it offers for data cleaning and analysis."
   ]
  },
  {
   "cell_type": "markdown",
   "metadata": {},
   "source": [
    "- Importance of Data Manipulation\n",
    "\n",
    "1. Ensuring Data Quality: Raw data often contains missing values, inconsistencies, or errors. Data manipulation helps clean and validate the data.\n",
    "2. Reshaping Data: Data might not initially be in the correct format for analysis. Manipulation allows you to reshape it for specific tasks like merging, aggregating, or pivoting.\n",
    "3. Feature Engineering: Creating new features to enhance model performance in machine learning is a key part of data manipulation.\n",
    "4. Facilitating Exploration and Visualization: Manipulating data is necessary for exploratory data analysis (EDA), enabling the visualization of patterns and relationships.\n",
    "\n",
    "It involves reshaping, transforming, cleaning, and restructuring data to make it suitable for analysis and modeling."
   ]
  },
  {
   "cell_type": "markdown",
   "metadata": {},
   "source": [
    "- Pandas: A Library for Handling Structured Data in Python\n",
    "\n",
    "Pandas is a powerful and flexible Python library used for data manipulation and analysis. It is built on top of NumPy and provides data structures like Series and DataFrame, which make data analysis tasks easier and more efficient.\n",
    "\n",
    "Key features of Pandas include:\n",
    "1. DataFrames and Series: Pandas uses DataFrames (2D tables) and Series (1D arrays) to represent structured data, similar to tables in a database or Excel.\n",
    "2. Comprehensive Data Operations: Pandas provides tools for filtering, sorting, grouping, merging, concatenating, pivoting, and reshaping data.\n",
    "3. Handling Missing Data: Pandas offers various methods to detect and handle missing or null values.\n",
    "4. Integration with Other Libraries: Pandas integrates well with other Python libraries used in data science, such as NumPy, SciPy, and Matplotlib.\n",
    "\n",
    "Pandas is an essential tool for data science and analysis because it simplifies data manipulation, enhances productivity, and integrates with other data science libraries. By using Pandas, data scientists can focus more on analysis and modeling, confident that their data is properly structured and cleaned."
   ]
  },
  {
   "cell_type": "markdown",
   "metadata": {},
   "source": [
    "- Installing Pandas with pip\n",
    "\n",
    "1. If you're working in a standard Python environment (outside of virtual environments), you can install Pandas using pip from the command line.\n",
    "\n",
    "pip install pandas\n",
    "\n",
    "2. If you're using Python 3 and pip is not recognized, you might need to use pip3 instead:\n",
    "\n",
    "pip3 install pandas\n",
    "\n",
    "3. Installing Pandas in a Virtual Environment \n",
    "\n",
    "# Create a new virtual environment (e.g., named 'myenv')\n",
    "python -m venv myenv\n",
    "\n",
    "# Activate the virtual environment\n",
    "# Windows\n",
    "myenv\\Scripts\\activate\n",
    "# macOS/Linux\n",
    "source myenv/bin/activate\n",
    "\n",
    "# Install Pandas\n",
    "pip install pandas\n",
    "\n",
    "4. Installing Pandas in Jupyter Notebooks\n",
    "\n",
    "# Install Pandas within a Jupyter notebook\n",
    "pip install pandas "
   ]
  },
  {
   "cell_type": "markdown",
   "metadata": {},
   "source": [
    "- Verifying the Installation and Version\n",
    "\n",
    "1. Verifying the Installation\n",
    "To check if Pandas was installed correctly, import it and check for errors.\n",
    "\n",
    "import pandas as pd                # If there's no error, Pandas is installed\n",
    "print(\"Pandas is installed.\")\n",
    "\n",
    "2. Checking the Pandas Version\n",
    "\n",
    "To confirm which version of Pandas is installed, use the following command:\n",
    "\n",
    "# Check the Pandas version\n",
    "print(\"Pandas version:\", pd.__version__)\n",
    "\n",
    "This command returns the version of Pandas currently installed, allowing you to verify it's up to date or compatible with your code."
   ]
  },
  {
   "cell_type": "markdown",
   "metadata": {},
   "source": [
    "Basics \n",
    "\n",
    "1. Series\n",
    "A Series is a one-dimensional labeled array capable of holding data of any type."
   ]
  },
  {
   "cell_type": "code",
   "execution_count": null,
   "metadata": {},
   "outputs": [],
   "source": [
    "import pandas as pd\n",
    "\n",
    "# Creating a Series from a list\n",
    "s = pd.Series([1, 3, 5, 7, 9])\n",
    "print(s)\n",
    "\n",
    "# Creating a Series with custom index\n",
    "s = pd.Series([1, 3, 5, 7, 9], index=['a', 'b', 'c', 'd', 'e'])\n",
    "print(s)"
   ]
  },
  {
   "cell_type": "markdown",
   "metadata": {},
   "source": [
    "2. DataFrame\n",
    "A DataFrame is a two-dimensional labeled data structure with columns of potentially different types."
   ]
  },
  {
   "cell_type": "code",
   "execution_count": null,
   "metadata": {},
   "outputs": [],
   "source": [
    "# Creating a DataFrame from a dictionary\n",
    "data = {\n",
    "    'Name': ['John', 'Anna', 'Peter', 'Linda'],\n",
    "    'Age': [28, 24, 35, 32],\n",
    "    'City': ['New York', 'Paris', 'Berlin', 'London']\n",
    "}\n",
    "df = pd.DataFrame(data)\n",
    "print(df)\n",
    "\n",
    "# Creating a DataFrame from a list of dictionaries\n",
    "data = [\n",
    "    {'Name': 'John', 'Age': 28, 'City': 'New York'},\n",
    "    {'Name': 'Anna', 'Age': 24, 'City': 'Paris'},\n",
    "    {'Name': 'Peter', 'Age': 35, 'City': 'Berlin'},\n",
    "    {'Name': 'Linda', 'Age': 32, 'City': 'London'}\n",
    "]\n",
    "df = pd.DataFrame(data)\n",
    "print(df)"
   ]
  },
  {
   "cell_type": "markdown",
   "metadata": {},
   "source": [
    "Data Manipulation\n",
    "3. Viewing Data"
   ]
  },
  {
   "cell_type": "code",
   "execution_count": null,
   "metadata": {},
   "outputs": [],
   "source": [
    "# Viewing the first few rows\n",
    "print(df.head())\n",
    "\n",
    "# Viewing the last few rows\n",
    "print(df.tail())\n",
    "\n",
    "# Getting information about the DataFrame\n",
    "print(df.info())\n",
    "\n",
    "# Descriptive statistics\n",
    "print(df.describe())"
   ]
  },
  {
   "cell_type": "markdown",
   "metadata": {},
   "source": [
    "4. Selecting Data"
   ]
  },
  {
   "cell_type": "code",
   "execution_count": null,
   "metadata": {},
   "outputs": [],
   "source": [
    "# Selecting a single column\n",
    "print(df['Name'])\n",
    "\n",
    "# Selecting multiple columns\n",
    "print(df[['Name', 'City']])\n",
    "\n",
    "# Selecting rows by index\n",
    "print(df.iloc[0])  # First row\n",
    "print(df.iloc[0:2])  # First two rows\n",
    "\n",
    "# Selecting rows by label\n",
    "print(df.loc[0])  # First row (by label)\n",
    "print(df.loc[0:2])  # First three rows (by label)"
   ]
  },
  {
   "cell_type": "markdown",
   "metadata": {},
   "source": [
    "5. Filtering Data"
   ]
  },
  {
   "cell_type": "code",
   "execution_count": null,
   "metadata": {},
   "outputs": [],
   "source": [
    "# Filtering rows based on a condition\n",
    "print(df[df['Age'] > 30])\n",
    "\n",
    "# Filtering rows based on multiple conditions\n",
    "print(df[(df['Age'] > 30) & (df['City'] == 'Berlin')])"
   ]
  },
  {
   "cell_type": "markdown",
   "metadata": {},
   "source": [
    "6. Adding and Modifying Columns"
   ]
  },
  {
   "cell_type": "code",
   "execution_count": null,
   "metadata": {},
   "outputs": [],
   "source": [
    "# Adding a new column\n",
    "df['Country'] = ['USA', 'France', 'Germany', 'UK']\n",
    "print(df)\n",
    "\n",
    "# Modifying an existing column\n",
    "df['Age'] = df['Age'] + 1\n",
    "print(df)"
   ]
  },
  {
   "cell_type": "markdown",
   "metadata": {},
   "source": [
    "7. Handling Missing Data"
   ]
  },
  {
   "cell_type": "code",
   "execution_count": null,
   "metadata": {},
   "outputs": [],
   "source": [
    "# Checking for missing values\n",
    "print(df.isnull())\n",
    "\n",
    "# Dropping rows with missing values\n",
    "df.dropna(inplace=True)\n",
    "\n",
    "# Filling missing values\n",
    "df.fillna(value={'Age': 0}, inplace=True)\n",
    "print(df)"
   ]
  },
  {
   "cell_type": "markdown",
   "metadata": {},
   "source": [
    "Advanced Features\n",
    "8. Grouping and Aggregation"
   ]
  },
  {
   "cell_type": "code",
   "execution_count": null,
   "metadata": {},
   "outputs": [],
   "source": [
    "# Grouping data by a column and calculating the mean\n",
    "grouped = df.groupby('City').mean()\n",
    "print(grouped)\n",
    "\n",
    "# Applying multiple aggregation functions\n",
    "grouped = df.groupby('City').agg({'Age': ['mean', 'max']})\n",
    "print(grouped)"
   ]
  },
  {
   "cell_type": "markdown",
   "metadata": {},
   "source": [
    "9. Merging and Joining"
   ]
  },
  {
   "cell_type": "code",
   "execution_count": null,
   "metadata": {},
   "outputs": [],
   "source": [
    "# Creating another DataFrame\n",
    "data2 = {\n",
    "    'Name': ['John', 'Anna', 'Peter', 'Linda'],\n",
    "    'Salary': [50000, 62000, 59000, 65000]\n",
    "}\n",
    "df2 = pd.DataFrame(data2)\n",
    "\n",
    "# Merging DataFrames\n",
    "merged = pd.merge(df, df2, on='Name')\n",
    "print(merged)\n",
    "\n",
    "# Joining DataFrames\n",
    "joined = df.set_index('Name').join(df2.set_index('Name'))\n",
    "print(joined)"
   ]
  },
  {
   "cell_type": "markdown",
   "metadata": {},
   "source": [
    "10. Pivot Tables"
   ]
  },
  {
   "cell_type": "code",
   "execution_count": null,
   "metadata": {},
   "outputs": [],
   "source": [
    "# Creating a pivot table\n",
    "pivot = df.pivot_table(values='Age', index='City', columns='Country', aggfunc='mean')\n",
    "print(pivot)"
   ]
  },
  {
   "cell_type": "markdown",
   "metadata": {},
   "source": [
    "11. Time Series Analysis"
   ]
  },
  {
   "cell_type": "code",
   "execution_count": null,
   "metadata": {},
   "outputs": [],
   "source": [
    "# Creating a time series\n",
    "date_rng = pd.date_range(start='2020-01-01', end='2020-01-10', freq='D')\n",
    "ts = pd.Series(range(len(date_rng)), index=date_rng)\n",
    "print(ts)\n",
    "\n",
    "# Resampling the time series\n",
    "resampled = ts.resample('2D').mean()\n",
    "print(resampled)"
   ]
  },
  {
   "cell_type": "markdown",
   "metadata": {},
   "source": [
    "12. Visualization"
   ]
  },
  {
   "cell_type": "code",
   "execution_count": null,
   "metadata": {},
   "outputs": [],
   "source": [
    "import matplotlib.pyplot as plt\n",
    "\n",
    "# Plotting a DataFrame\n",
    "df.plot(kind='bar', x='Name', y='Age')\n",
    "plt.show()\n",
    "\n",
    "# Plotting a time series\n",
    "ts.plot()\n",
    "plt.show()"
   ]
  },
  {
   "cell_type": "markdown",
   "metadata": {},
   "source": [
    "- Conclusion\n",
    "\n",
    "Pandas is an essential tool for data manipulation and analysis in Python. Its versatile data structures and numerous functions make it ideal for handling large datasets and performing complex data analysis tasks efficiently."
   ]
  }
 ],
 "metadata": {
  "language_info": {
   "name": "python"
  }
 },
 "nbformat": 4,
 "nbformat_minor": 2
}
