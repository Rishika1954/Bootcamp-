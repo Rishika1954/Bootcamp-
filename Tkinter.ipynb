{
 "cells": [
  {
   "cell_type": "markdown",
   "metadata": {},
   "source": [
    "Graphical User Interface (GUI) \n",
    "\n",
    "It is a desktop application which helps to interact with the computers. They are used to perform different tasks in the desktops,laptops,and other electronic devices.\n",
    "\n",
    "GUI apps like Text Editors are used to create,read,update,and delete different types of files.\n",
    "GUI apps like Sudoku,Chess,and Solitaire are games which can be played.\n",
    "GUI apps like Google,Chrome,Firefox, and Microsoft Edge are used to browse through the Internet."
   ]
  },
  {
   "cell_type": "markdown",
   "metadata": {},
   "source": [
    "Python Libraries to Create Graphical User Interface :-\n",
    "\n",
    "Python has a plethora of libraries and these 4 stands out mainly when it comes to GUI. These are as follows:\n",
    "\n",
    "- Kivy\n",
    "- Python QT\n",
    "- wxPython\n",
    "- Tkinter"
   ]
  },
  {
   "cell_type": "markdown",
   "metadata": {},
   "source": [
    "Tkinter\n",
    "\n",
    "Tkinter is the most commonly used library for developing GUI (Graphical User Interface) in Python. It is a standard Python interface to the Tk GUI toolkit shipped with Python. As Tk and Tkinter are available on most of the Unix platforms as well as on the Windows system, developing GUI applications with Tkinter becomes the fastest and easiest.\n",
    "\n",
    "The name “Tkinter” comes from “Tk interface“, referring to the Tk GUI toolkit that Tkinter is based on. Tkinter provides a way to create windows, buttons, labels, text boxes, and other GUI components to build interactive applications.\n",
    "\n",
    "Tkinter is the inbuilt python module that is used to create GUI applications. It is one of the most commonly used modules for creating GUI applications in Python as it is simple and easy to work with. Tkinter module comes with Python already. It gives an object-oriented interface to the Tk GUI toolkit. Among all, Tkinter is most widely used."
   ]
  },
  {
   "cell_type": "markdown",
   "metadata": {},
   "source": [
    "Common Use Cases of Tkinter :-\n",
    "\n",
    "1. Creating windows and dialog boxes: Tkinter can be used to create windows and dialog boxes that allow users to interact with your program. These can be used to display information, gather input, or present options to the user.\n",
    "\n",
    "2. Building a GUI for a desktop application: Tkinter can be used to create the interface for a desktop application, including buttons, menus, and other interactive elements.\n",
    "\n",
    "3. Adding a GUI to a command-line program: Tkinter can be used to add a GUI to a command-line program, making it easier for users to interact with the program and input arguments.\n",
    "\n",
    "4. Creating custom widgets: Tkinter includes a variety of built-in widgets, such as buttons, labels, and text boxes, but it also allows you to create your own custom widgets.\n",
    "\n",
    "5. Prototyping a GUI: Tkinter can be used to quickly prototype a GUI, allowing you to test and iterate on different design ideas before committing to a final implementation."
   ]
  },
  {
   "cell_type": "markdown",
   "metadata": {},
   "source": [
    "Fundamentals of Tkinter\n",
    "\n",
    "To start the GUI Programming we first import Tkinter module.\n",
    "Followed by that, we create the main window. It is this window that we perform operations and display visuals and everything basically.\n",
    "Later, we add the widgets and lastly we enter the main event loop.\n",
    "\n",
    "The two important keywords are:-\n",
    "\n",
    "- Widgets\n",
    "- Main Event Loop\n",
    "\n",
    "An event loop is basically telling the code to keep display the window until we manually close it. It runs in an infinite loop in the back-end."
   ]
  },
  {
   "cell_type": "markdown",
   "metadata": {},
   "source": [
    "Widgets\n",
    "\n",
    "Widgets are something like elements in HTML. There are different types of widgets to different types of elements in the Tkinter.\n",
    "\n",
    "There are various types of widgets  and here's a list of majorly used Tkinter widgets:-\n",
    "\n",
    "- Label\n",
    "- Button\n",
    "- Entry\n",
    "- ComboBox\n",
    "- CheckButton\n",
    "- Radio\n",
    "- ScrolledText\n",
    "- SpinBox\n",
    "- Menu Bar\n",
    "- Notebook"
   ]
  },
  {
   "cell_type": "markdown",
   "metadata": {},
   "source": [
    "Steps to create a Tkinter Python app :-\n",
    "\n",
    "1. Import the tkinter module: This is done just like importing any other module in Python. Note that in Python 2.x, the module is named ‘Tkinter’, while in Python 3.x, it is named ‘tkinter’.\n",
    "2. Create the main window (container): The main window serves as the container for all the GUI elements you’ll add later.\n",
    "3. Add widgets to the main window: You can add any number of widgets like buttons, labels, entry fields, etc., to the main window to design the interface as desired.\n",
    "4. Apply event triggers to the widgets: You can attach event triggers to the widgets to define how they respond to user interactions.\n"
   ]
  },
  {
   "cell_type": "markdown",
   "metadata": {},
   "source": [
    "Creating first Tkinter GUI Application\n",
    "\n",
    "There are two main methods used which the user needs to remember while creating the Python application with GUI.\n",
    "\n",
    "- Tk()\n",
    "To create a main window, tkinter offers a method ‘Tk(screenName=None,  baseName=None,  className=’Tk’,  useTk=1)’. To change the name of the window, you can change the className to the desired one. The basic code used to create the main window of the application is:\n",
    "\n",
    "- mainloop()\n",
    "There is a method known by the name mainloop() is used when your application is ready to run. mainloop() is an infinite loop used to run the application, wait for an event to occur, and process the event as long as the window is not closed."
   ]
  },
  {
   "cell_type": "code",
   "execution_count": null,
   "metadata": {},
   "outputs": [],
   "source": [
    "import tkinter\n",
    "m = tkinter.Tk()\n",
    "'''\n",
    "widgets are added here\n",
    "'''\n",
    "m.mainloop()"
   ]
  },
  {
   "cell_type": "markdown",
   "metadata": {},
   "source": [
    "Basic Widgets in Tkinter :-\n",
    "\n",
    "- Label:Display static text or images.\n",
    "- Button: Create clickable buttons to trigger actions.\n",
    "- Entry: Allow user input for single-line text.\n",
    "- Frame: Organize widgets within a container.\n",
    "- Checkbutton: Create checkboxes for boolean options.\n",
    "- Radiobutton: Create radio buttons for mutually exclusive options.\n",
    "- Listbox: Display a list of items for selection.\n",
    "- Scrollbar: Add scrollbars to widgets like Listbox.\n",
    "- Menu: Create simple menus for application navigation.\n",
    "- Canvas: Draw shapes, lines, text, and images."
   ]
  },
  {
   "cell_type": "markdown",
   "metadata": {},
   "source": [
    "Intermediate Widgets in Tkinter :-\n",
    "\n",
    "- ComboBox: Provide a dropdown list with editable text entry.\n",
    "- Scale: Create a scale widget for selecting values within a range.\n",
    "- Toplevel: Create additional windows/dialogs.\n",
    "- Message: Display simple messages or notifications.\n",
    "- Menubutton: Create a button that opens a menu.\n",
    "- Progressbar: Show progress of a task.\n",
    "- Spinbox: Provide a numerical input with up/down arrows."
   ]
  },
  {
   "cell_type": "markdown",
   "metadata": {},
   "source": [
    "Advanced Widgets in Tkinter :-\n",
    "\n",
    "- ScrolledText Widget: Create a text widget with built-in scrollbars.\n",
    "- Treeview: Display hierarchical data in a tree-like structure.\n",
    "- MessageBox Widget: Display dialog boxes for messages, warnings, etc.\n",
    "- Treeview scrollbar Widget: Add scrollbars to Treeview widgets.\n",
    "- Text: Create a multiline text input with advanced editing capabilities.\n"
   ]
  }
 ],
 "metadata": {
  "language_info": {
   "name": "python"
  }
 },
 "nbformat": 4,
 "nbformat_minor": 2
}
