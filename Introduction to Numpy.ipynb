{
 "cells": [
  {
   "cell_type": "markdown",
   "metadata": {},
   "source": [
    "Introduction to NumPy\n",
    "\n",
    "NumPy (Numerical Python) is a fundamental package for scientific computing in Python. It provides support for arrays, which are collections of elements (usually numbers) that can be indexed and manipulated. NumPy arrays are more efficient and convenient than Python lists for numerical operations."
   ]
  },
  {
   "cell_type": "markdown",
   "metadata": {},
   "source": [
    "NumPy Arrays and Attributes\n",
    "\n",
    "NumPy arrays, or ndarrays (n-dimensional arrays), are central to the library. Key attributes of these arrays include:\n",
    "\n",
    "1. Shape: The dimensions of the array, represented as a tuple of integers.\n",
    "2. Size: The total number of elements in the array.\n",
    "3. dtype: The data type of the array elements (e.g., int32, float64)."
   ]
  },
  {
   "cell_type": "code",
   "execution_count": null,
   "metadata": {},
   "outputs": [],
   "source": [
    "import numpy as np\n",
    "\n",
    "# Creating a NumPy array\n",
    "arr = np.array([[1, 2, 3], [4, 5, 6]])\n",
    "\n",
    "# Attributes\n",
    "print(\"Array:\\n\", arr)\n",
    "print(\"Shape:\", arr.shape)  # (2, 3)\n",
    "print(\"Size:\", arr.size)    # 6\n",
    "print(\"Data type:\", arr.dtype)  # int64"
   ]
  },
  {
   "cell_type": "markdown",
   "metadata": {},
   "source": [
    "Functions to Create Arrays\n",
    "\n",
    "NumPy provides various functions to create arrays efficiently:\n",
    "\n",
    "np.array(): To create an array from a list or tuple.\n",
    "np.zeros(): To create an array filled with zeros.\n",
    "np.ones(): To create an array filled with ones.\n",
    "np.full(): To create an array filled with a specific value.\n",
    "np.arange(): To create an array with a range of values.\n",
    "np.linspace(): To create an array with a specified number of evenly spaced values.\n",
    "np.eye(): To create an identity matrix (2D array with ones on the diagonal and zeros elsewhere)."
   ]
  },
  {
   "cell_type": "code",
   "execution_count": null,
   "metadata": {},
   "outputs": [],
   "source": [
    "# Different ways to create arrays\n",
    "zeros = np.zeros((2, 3))\n",
    "ones = np.ones((3, 3))\n",
    "full = np.full((2, 2), 7)\n",
    "arange = np.arange(10)\n",
    "linspace = np.linspace(0, 1, 5)\n",
    "identity = np.eye(3)\n",
    "\n",
    "print(\"Zeros:\\n\", zeros)\n",
    "print(\"Ones:\\n\", ones)\n",
    "print(\"Full:\\n\", full)\n",
    "print(\"Arange:\\n\", arange)\n",
    "print(\"Linspace:\\n\", linspace)\n",
    "print(\"Identity:\\n\", identity)"
   ]
  },
  {
   "cell_type": "markdown",
   "metadata": {},
   "source": [
    "NumPy Array Operators and Broadcasting\n",
    "\n",
    "NumPy supports element-wise operations and broadcasting. Broadcasting allows arithmetic operations on arrays of different shapes."
   ]
  },
  {
   "cell_type": "code",
   "execution_count": null,
   "metadata": {},
   "outputs": [],
   "source": [
    "a = np.array([1, 2, 3])\n",
    "b = np.array([4, 5, 6])\n",
    "\n",
    "# Element-wise operations\n",
    "print(\"Addition:\", a + b)         # [5, 7, 9]\n",
    "print(\"Multiplication:\", a * b)   # [4, 10, 18]\n",
    "\n",
    "# Broadcasting\n",
    "c = np.array([[1], [2], [3]])\n",
    "d = np.array([4, 5, 6])\n",
    "print(\"Broadcasting addition:\\n\", c + d)\n",
    "# [[5, 6, 7],\n",
    "#  [6, 7, 8],\n",
    "#  [7, 8, 9]]"
   ]
  },
  {
   "cell_type": "markdown",
   "metadata": {},
   "source": [
    "Element-wise Operations and Efficiency\n",
    "\n",
    "Element-wise operations in NumPy are highly efficient due to vectorization, which eliminates the need for explicit loops."
   ]
  },
  {
   "cell_type": "code",
   "execution_count": null,
   "metadata": {},
   "outputs": [],
   "source": [
    "# Element-wise operations\n",
    "a = np.array([1, 2, 3, 4])\n",
    "b = np.array([10, 20, 30, 40])\n",
    "print(\"Element-wise addition:\", a + b)  # [11, 22, 33, 44]\n",
    "print(\"Element-wise multiplication:\", a * b)  # [10, 40, 90, 160]"
   ]
  },
  {
   "cell_type": "markdown",
   "metadata": {},
   "source": [
    "Indexing and Slicing\n",
    "\n",
    "NumPy arrays support sophisticated indexing and slicing techniques, similar to Python lists but with more power and flexibility."
   ]
  },
  {
   "cell_type": "code",
   "execution_count": null,
   "metadata": {},
   "outputs": [],
   "source": [
    "arr = np.array([1, 2, 3, 4, 5, 6, 7, 8, 9])\n",
    "\n",
    "# Indexing\n",
    "print(\"Element at index 0:\", arr[0])  # 1\n",
    "\n",
    "# Slicing\n",
    "print(\"Elements from index 1 to 5:\", arr[1:6])  # [2, 3, 4, 5, 6]\n",
    "print(\"Every second element:\", arr[::2])  # [1, 3, 5, 7, 9]\n",
    "\n",
    "# 2D array slicing\n",
    "arr2d = np.array([[1, 2, 3], [4, 5, 6], [7, 8, 9]])\n",
    "print(\"2D array slicing:\\n\", arr2d[:2, 1:])  # [[2, 3], [5, 6]]"
   ]
  },
  {
   "cell_type": "markdown",
   "metadata": {},
   "source": [
    "Array Manipulation\n",
    "\n",
    "NumPy provides functions to manipulate arrays, such as reshaping, flattening, concatenating, stacking, and splitting."
   ]
  },
  {
   "cell_type": "markdown",
   "metadata": {},
   "source": [
    "1. Reshaping"
   ]
  },
  {
   "cell_type": "code",
   "execution_count": null,
   "metadata": {},
   "outputs": [],
   "source": [
    "arr = np.arange(8)\n",
    "reshaped = arr.reshape((2, 4))\n",
    "print(\"Reshaped array:\\n\", reshaped)\n",
    "# [[0, 1, 2, 3],\n",
    "#  [4, 5, 6, 7]]"
   ]
  },
  {
   "cell_type": "markdown",
   "metadata": {},
   "source": [
    "2. Flattening "
   ]
  },
  {
   "cell_type": "code",
   "execution_count": null,
   "metadata": {},
   "outputs": [],
   "source": [
    "flattened = reshaped.flatten()\n",
    "print(\"Flattened array:\", flattened)  # [0, 1, 2, 3, 4, 5, 6, 7]"
   ]
  },
  {
   "cell_type": "markdown",
   "metadata": {},
   "source": [
    "3. Concatenation "
   ]
  },
  {
   "cell_type": "code",
   "execution_count": null,
   "metadata": {},
   "outputs": [],
   "source": [
    "a = np.array([1, 2, 3])\n",
    "b = np.array([4, 5, 6])\n",
    "concatenated = np.concatenate((a, b))\n",
    "print(\"Concatenated array:\", concatenated)  # [1, 2, 3, 4, 5, 6]"
   ]
  },
  {
   "cell_type": "markdown",
   "metadata": {},
   "source": [
    "4. Stacking "
   ]
  },
  {
   "cell_type": "code",
   "execution_count": null,
   "metadata": {},
   "outputs": [],
   "source": [
    "a = np.array([1, 2, 3])\n",
    "b = np.array([4, 5, 6])\n",
    "stacked = np.stack((a, b))\n",
    "print(\"Stacked array:\\n\", stacked)\n",
    "# [[1, 2, 3],\n",
    "#  [4, 5, 6]]"
   ]
  },
  {
   "cell_type": "markdown",
   "metadata": {},
   "source": [
    "5. Splitting"
   ]
  },
  {
   "cell_type": "code",
   "execution_count": null,
   "metadata": {},
   "outputs": [],
   "source": [
    "arr = np.arange(10)\n",
    "split = np.split(arr, 2)\n",
    "print(\"Split arrays:\", split)\n",
    "# [array([0, 1, 2, 3, 4]), array([5, 6, 7, 8, 9])]"
   ]
  },
  {
   "cell_type": "markdown",
   "metadata": {},
   "source": [
    "Methods for Adding and Removing Elements\n",
    "\n",
    "NumPy provides functions to add or remove elements from arrays."
   ]
  },
  {
   "cell_type": "markdown",
   "metadata": {},
   "source": [
    "1. Adding elements"
   ]
  },
  {
   "cell_type": "code",
   "execution_count": null,
   "metadata": {},
   "outputs": [],
   "source": [
    "arr = np.array([1, 2, 3])\n",
    "arr = np.append(arr, [4, 5])\n",
    "print(\"Array after append:\", arr)  # [1, 2, 3, 4, 5]"
   ]
  },
  {
   "cell_type": "markdown",
   "metadata": {},
   "source": [
    "2. Removing elements"
   ]
  },
  {
   "cell_type": "code",
   "execution_count": null,
   "metadata": {},
   "outputs": [],
   "source": [
    "arr = np.array([1, 2, 3, 4, 5])\n",
    "arr = np.delete(arr, [1, 3])\n",
    "print(\"Array after deletion:\", arr)  # [1, 3, 5]\n"
   ]
  }
 ],
 "metadata": {
  "language_info": {
   "name": "python"
  }
 },
 "nbformat": 4,
 "nbformat_minor": 2
}
