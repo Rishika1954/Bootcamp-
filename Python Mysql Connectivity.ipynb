{
 "cells": [
  {
   "cell_type": "markdown",
   "metadata": {},
   "source": [
    "Python MySQL Connectivity \n",
    "\n",
    "- Description:\n",
    "\n",
    "Python MySQL connectivity refers to the process of connecting a Python application to a MySQL database. This allows the Python application to interact with the database, executing queries, fetching data, and performing CRUD (Create, Read, Update, Delete) operations.\n",
    "\n",
    "- Key Points:\n",
    "1. MySQL: A popular open-source relational database management system (RDBMS) that uses Structured Query Language (SQL).\n",
    "2. Python: A versatile, high-level programming language known for its simplicity and extensive libraries.\n",
    "\n",
    "MySQL is a popular relational database management system. Python, with its rich ecosystem, offers multiple libraries to interact with MySQL databases. The most commonly used library is mysql-connector-python."
   ]
  },
  {
   "cell_type": "markdown",
   "metadata": {},
   "source": [
    "- Benefits of Python MySQL Connectivity:\n",
    "\n",
    "1. Ease of Use: Python's syntax is clear and easy to learn, making it simple to write database interactions.\n",
    "2. Versatility: Python can be used for a variety of tasks beyond database management, such as data analysis, web development, and automation.\n",
    "3. Extensive Libraries: Python has a wide range of libraries, such as mysql-connector-python, that facilitate database connectivity.\n",
    "4. Efficiency: Connecting Python with MySQL allows for efficient data handling and manipulation, which is crucial for data-driven applications.\n",
    "5. Community Support: Both Python and MySQL have large, active communities that provide support, resources, and libraries to enhance development."
   ]
  },
  {
   "cell_type": "markdown",
   "metadata": {},
   "source": [
    "- Applications:\n",
    "\n",
    "1. Web Development: Used to manage user data, session information, and content in web applications.\n",
    "2. Data Analysis: Enables analysts to store, retrieve, and process large datasets efficiently.\n",
    "3. Automation: Automates repetitive tasks, such as data entry and report generation.\n",
    "4. Backend Services: Powers backend operations of various software applications, ensuring data consistency and integrity."
   ]
  },
  {
   "cell_type": "markdown",
   "metadata": {},
   "source": [
    "- Installation \n",
    "\n",
    "To start using MySQL with Python, install the mysql-connector-python library.\n",
    "\n",
    "pip install mysql-connector-python"
   ]
  },
  {
   "cell_type": "markdown",
   "metadata": {},
   "source": [
    "- Basic Connectivity\n",
    "\n",
    "First, establish a connection to the MySQL server."
   ]
  },
  {
   "cell_type": "code",
   "execution_count": null,
   "metadata": {},
   "outputs": [],
   "source": [
    "import mysql.connector\n",
    "\n",
    "# Establish the connection\n",
    "conn = mysql.connector.connect(\n",
    "    host=\"localhost\",\n",
    "    user=\"yourusername\",\n",
    "    password=\"yourpassword\",\n",
    "    database=\"yourdatabase\"\n",
    ")\n",
    "\n",
    "# Create a cursor object\n",
    "cursor = conn.cursor()\n",
    "\n",
    "# Close the connection\n",
    "cursor.close()\n",
    "conn.close()"
   ]
  },
  {
   "cell_type": "markdown",
   "metadata": {},
   "source": [
    "- Executing Queries\n",
    "\n",
    "Execute SQL queries using the cursor object."
   ]
  },
  {
   "cell_type": "code",
   "execution_count": null,
   "metadata": {},
   "outputs": [],
   "source": [
    "import mysql.connector\n",
    "\n",
    "# Establish the connection\n",
    "conn = mysql.connector.connect(\n",
    "    host=\"localhost\",\n",
    "    user=\"yourusername\",\n",
    "    password=\"yourpassword\",\n",
    "    database=\"yourdatabase\"\n",
    ")\n",
    "\n",
    "# Create a cursor object\n",
    "cursor = conn.cursor()\n",
    "\n",
    "# Execute a simple query\n",
    "cursor.execute(\"SELECT DATABASE()\")\n",
    "\n",
    "# Fetch and print the result\n",
    "database_name = cursor.fetchone()\n",
    "print(f\"Connected to database: {database_name[0]}\")\n",
    "\n",
    "# Close the connection\n",
    "cursor.close()\n",
    "conn.close()"
   ]
  },
  {
   "cell_type": "markdown",
   "metadata": {},
   "source": [
    "- Fetching Data\n",
    "\n",
    "Fetch data using various methods like fetchone(), fetchall(), and fetchmany()."
   ]
  },
  {
   "cell_type": "code",
   "execution_count": null,
   "metadata": {},
   "outputs": [],
   "source": [
    "import mysql.connector\n",
    "\n",
    "# Establish the connection\n",
    "conn = mysql.connector.connect(\n",
    "    host=\"localhost\",\n",
    "    user=\"yourusername\",\n",
    "    password=\"yourpassword\",\n",
    "    database=\"yourdatabase\"\n",
    ")\n",
    "\n",
    "# Create a cursor object\n",
    "cursor = conn.cursor()\n",
    "\n",
    "# Execute a query\n",
    "cursor.execute(\"SELECT * FROM yourtable\")\n",
    "\n",
    "# Fetch all rows\n",
    "rows = cursor.fetchall()\n",
    "\n",
    "# Print fetched rows\n",
    "for row in rows:\n",
    "    print(row)\n",
    "\n",
    "# Close the connection\n",
    "cursor.close()\n",
    "conn.close()"
   ]
  },
  {
   "cell_type": "markdown",
   "metadata": {},
   "source": [
    "- Inserting Data\n",
    "\n",
    "Insert data into the database."
   ]
  },
  {
   "cell_type": "code",
   "execution_count": null,
   "metadata": {},
   "outputs": [],
   "source": [
    "import mysql.connector\n",
    "\n",
    "# Establish the connection\n",
    "conn = mysql.connector.connect(\n",
    "    host=\"localhost\",\n",
    "    user=\"yourusername\",\n",
    "    password=\"yourpassword\",\n",
    "    database=\"yourdatabase\"\n",
    ")\n",
    "\n",
    "# Create a cursor object\n",
    "cursor = conn.cursor()\n",
    "\n",
    "# Insert data\n",
    "sql = \"INSERT INTO yourtable (column1, column2) VALUES (%s, %s)\"\n",
    "values = (\"value1\", \"value2\")\n",
    "cursor.execute(sql, values)\n",
    "\n",
    "# Commit the transaction\n",
    "conn.commit()\n",
    "\n",
    "print(f\"{cursor.rowcount} record(s) inserted.\")\n",
    "\n",
    "# Close the connection\n",
    "cursor.close()\n",
    "conn.close()"
   ]
  },
  {
   "cell_type": "markdown",
   "metadata": {},
   "source": [
    "- Updating Data\n",
    "\n",
    "Update existing data in the database."
   ]
  },
  {
   "cell_type": "code",
   "execution_count": null,
   "metadata": {},
   "outputs": [],
   "source": [
    "import mysql.connector\n",
    "\n",
    "# Establish the connection\n",
    "conn = mysql.connector.connect(\n",
    "    host=\"localhost\",\n",
    "    user=\"yourusername\",\n",
    "    password=\"yourpassword\",\n",
    "    database=\"yourdatabase\"\n",
    ")\n",
    "\n",
    "# Create a cursor object\n",
    "cursor = conn.cursor()\n",
    "\n",
    "# Update data\n",
    "sql = \"UPDATE yourtable SET column1 = %s WHERE column2 = %s\"\n",
    "values = (\"newvalue\", \"value2\")\n",
    "cursor.execute(sql, values)\n",
    "\n",
    "# Commit the transaction\n",
    "conn.commit()\n",
    "\n",
    "print(f\"{cursor.rowcount} record(s) affected.\")\n",
    "\n",
    "# Close the connection\n",
    "cursor.close()\n",
    "conn.close()"
   ]
  },
  {
   "cell_type": "markdown",
   "metadata": {},
   "source": [
    "- Deleting Data\n",
    "\n",
    "Delete data from the database."
   ]
  },
  {
   "cell_type": "code",
   "execution_count": null,
   "metadata": {},
   "outputs": [],
   "source": [
    "import mysql.connector\n",
    "\n",
    "# Establish the connection\n",
    "conn = mysql.connector.connect(\n",
    "    host=\"localhost\",\n",
    "    user=\"yourusername\",\n",
    "    password=\"yourpassword\",\n",
    "    database=\"yourdatabase\"\n",
    ")\n",
    "\n",
    "# Create a cursor object\n",
    "cursor = conn.cursor()\n",
    "\n",
    "# Delete data\n",
    "sql = \"DELETE FROM yourtable WHERE column2 = %s\"\n",
    "value = (\"value2\",)\n",
    "cursor.execute(sql, value)\n",
    "\n",
    "# Commit the transaction\n",
    "conn.commit()\n",
    "\n",
    "print(f\"{cursor.rowcount} record(s) deleted.\")\n",
    "\n",
    "# Close the connection\n",
    "cursor.close()\n",
    "conn.close()"
   ]
  },
  {
   "cell_type": "markdown",
   "metadata": {},
   "source": [
    "- Transactions\n",
    "\n",
    "Handle transactions using commit and rollback. "
   ]
  },
  {
   "cell_type": "code",
   "execution_count": null,
   "metadata": {},
   "outputs": [],
   "source": [
    "import mysql.connector\n",
    "\n",
    "# Establish the connection\n",
    "conn = mysql.connector.connect(\n",
    "    host=\"localhost\",\n",
    "    user=\"yourusername\",\n",
    "    password=\"yourpassword\",\n",
    "    database=\"yourdatabase\"\n",
    ")\n",
    "\n",
    "# Create a cursor object\n",
    "cursor = conn.cursor()\n",
    "\n",
    "try:\n",
    "    # Execute multiple queries as a transaction\n",
    "    cursor.execute(\"UPDATE yourtable SET column1 = 'value' WHERE column2 = 'value2'\")\n",
    "    cursor.execute(\"DELETE FROM yourtable WHERE column2 = 'value3'\")\n",
    "    \n",
    "    # Commit the transaction\n",
    "    conn.commit()\n",
    "    print(\"Transaction committed.\")\n",
    "except mysql.connector.Error as err:\n",
    "    # Rollback the transaction in case of error\n",
    "    conn.rollback()\n",
    "    print(\"Transaction rolled back.\")\n",
    "    print(err)\n",
    "\n",
    "# Close the connection\n",
    "cursor.close()\n",
    "conn.close()"
   ]
  },
  {
   "cell_type": "markdown",
   "metadata": {},
   "source": [
    "- Stored Procedures\n",
    "\n",
    "Call stored procedures from Python."
   ]
  },
  {
   "cell_type": "code",
   "execution_count": null,
   "metadata": {},
   "outputs": [],
   "source": [
    "import mysql.connector\n",
    "\n",
    "# Establish the connection\n",
    "conn = mysql.connector.connect(\n",
    "    host=\"localhost\",\n",
    "    user=\"yourusername\",\n",
    "    password=\"yourpassword\",\n",
    "    database=\"yourdatabase\"\n",
    ")\n",
    "\n",
    "# Create a cursor object\n",
    "cursor = conn.cursor()\n",
    "\n",
    "# Call a stored procedure\n",
    "cursor.callproc('your_procedure_name', [arg1, arg2])\n",
    "\n",
    "# Fetch results from the procedure\n",
    "for result in cursor.stored_results():\n",
    "    print(result.fetchall())\n",
    "\n",
    "# Close the connection\n",
    "cursor.close()\n",
    "conn.close()"
   ]
  },
  {
   "cell_type": "markdown",
   "metadata": {},
   "source": [
    "- Handling Errors\n",
    "\n",
    "Handle and manage errors gracefully."
   ]
  },
  {
   "cell_type": "code",
   "execution_count": null,
   "metadata": {},
   "outputs": [],
   "source": [
    "import mysql.connector\n",
    "from mysql.connector import Error\n",
    "\n",
    "try:\n",
    "    # Establish the connection\n",
    "    conn = mysql.connector.connect(\n",
    "        host=\"localhost\",\n",
    "        user=\"yourusername\",\n",
    "        password=\"yourpassword\",\n",
    "        database=\"yourdatabase\"\n",
    "    )\n",
    "\n",
    "    if conn.is_connected():\n",
    "        print(\"Connected to MySQL database\")\n",
    "        \n",
    "except Error as e:\n",
    "    print(f\"Error: {e}\")\n",
    "\n",
    "finally:\n",
    "    if conn.is_connected():\n",
    "        conn.close()\n",
    "        print(\"Connection closed\")"
   ]
  },
  {
   "cell_type": "markdown",
   "metadata": {},
   "source": [
    "- Connection Pooling\n",
    "\n",
    "Use connection pooling for efficient database connections."
   ]
  },
  {
   "cell_type": "code",
   "execution_count": null,
   "metadata": {},
   "outputs": [],
   "source": [
    "import mysql.connector\n",
    "from mysql.connector import pooling\n",
    "\n",
    "# Create a connection pool\n",
    "pool = pooling.MySQLConnectionPool(\n",
    "    pool_name=\"mypool\",\n",
    "    pool_size=5,\n",
    "    host=\"localhost\",\n",
    "    user=\"yourusername\",\n",
    "    password=\"yourpassword\",\n",
    "    database=\"yourdatabase\"\n",
    ")\n",
    "\n",
    "# Get a connection from the pool\n",
    "conn = pool.get_connection()\n",
    "\n",
    "# Create a cursor object\n",
    "cursor = conn.cursor()\n",
    "\n",
    "# Execute queries\n",
    "cursor.execute(\"SELECT * FROM yourtable\")\n",
    "rows = cursor.fetchall()\n",
    "\n",
    "# Print fetched rows\n",
    "for row in rows:\n",
    "    print(row)\n",
    "\n",
    "# Close the connection (returns it to the pool)\n",
    "cursor.close()\n",
    "conn.close()"
   ]
  },
  {
   "cell_type": "markdown",
   "metadata": {},
   "source": [
    "- Advanced Features\n",
    "\n",
    "Explore advanced features like handling large data sets, batch processing, and optimization techniques."
   ]
  },
  {
   "cell_type": "markdown",
   "metadata": {},
   "source": [
    "- Handling Large Data Sets"
   ]
  },
  {
   "cell_type": "code",
   "execution_count": null,
   "metadata": {},
   "outputs": [],
   "source": [
    "import mysql.connector\n",
    "\n",
    "# Establish the connection\n",
    "conn = mysql.connector.connect(\n",
    "    host=\"localhost\",\n",
    "    user=\"yourusername\",\n",
    "    password=\"yourpassword\",\n",
    "    database=\"yourdatabase\"\n",
    ")\n",
    "\n",
    "# Create a cursor object\n",
    "cursor = conn.cursor(buffered=True)\n",
    "\n",
    "# Execute a query\n",
    "cursor.execute(\"SELECT * FROM large_table\")\n",
    "\n",
    "# Fetch data in chunks\n",
    "while True:\n",
    "    rows = cursor.fetchmany(size=1000)\n",
    "    if not rows:\n",
    "        break\n",
    "    for row in rows:\n",
    "        print(row)\n",
    "\n",
    "# Close the connection\n",
    "cursor.close()\n",
    "conn.close()"
   ]
  },
  {
   "cell_type": "markdown",
   "metadata": {},
   "source": [
    "- Batch Processing"
   ]
  },
  {
   "cell_type": "code",
   "execution_count": null,
   "metadata": {},
   "outputs": [],
   "source": [
    "import mysql.connector\n",
    "\n",
    "# Establish the connection\n",
    "conn = mysql.connector.connect(\n",
    "    host=\"localhost\",\n",
    "    user=\"yourusername\",\n",
    "    password=\"yourpassword\",\n",
    "    database=\"yourdatabase\"\n",
    ")\n",
    "\n",
    "# Create a cursor object\n",
    "cursor = conn.cursor()\n",
    "\n",
    "# Batch insert data\n",
    "sql = \"INSERT INTO yourtable (column1, column2) VALUES (%s, %s)\"\n",
    "values = [\n",
    "    (\"value1a\", \"value2a\"),\n",
    "    (\"value1b\", \"value2b\"),\n",
    "    (\"value1c\", \"value2c\")\n",
    "]\n",
    "cursor.executemany(sql, values)\n",
    "\n",
    "# Commit the transaction\n",
    "conn.commit()\n",
    "\n",
    "print(f\"{cursor.rowcount} records inserted.\")\n",
    "\n",
    "# Close the connection\n",
    "cursor.close()\n",
    "conn.close()"
   ]
  },
  {
   "cell_type": "markdown",
   "metadata": {},
   "source": [
    "- Optimization Techniques\n",
    "\n",
    "* Use indexes to speed up query execution.\n",
    "* Optimize your queries by avoiding SELECT * and fetching only necessary columns.\n",
    "* Use connection pooling to manage database connections efficiently."
   ]
  }
 ],
 "metadata": {
  "language_info": {
   "name": "python"
  }
 },
 "nbformat": 4,
 "nbformat_minor": 2
}
