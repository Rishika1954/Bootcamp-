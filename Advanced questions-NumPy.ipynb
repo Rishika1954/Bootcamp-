{
 "cells": [
  {
   "cell_type": "markdown",
   "metadata": {},
   "source": [
    "- NumPy \n",
    "\n",
    "NumPy is a foundational package for numerical computing in Python. It provides support for large, multi-dimensional arrays and matrices, along with a collection of mathematical functions to operate on these arrays. NumPy's core data structure is the ndarray, which allows for efficient storage and manipulation of large datasets."
   ]
  },
  {
   "cell_type": "markdown",
   "metadata": {},
   "source": [
    "- Matrix Multiplication and Dot Product\n",
    "\n",
    "Q1. Given two matrices, perform matrix multiplication and compute the dot product of two vectors."
   ]
  },
  {
   "cell_type": "code",
   "execution_count": null,
   "metadata": {},
   "outputs": [],
   "source": [
    "import numpy as np\n",
    "\n",
    "# Matrices\n",
    "A = np.array([[1, 2], [3, 4]])\n",
    "B = np.array([[5, 6], [7, 8]])\n",
    "\n",
    "# Vectors\n",
    "v1 = np.array([1, 2])\n",
    "v2 = np.array([3, 4])\n",
    "\n",
    "# Matrix multiplication\n",
    "C = np.dot(A, B)\n",
    "print(\"Matrix Multiplication:\\n\", C)\n",
    "# [[19 22]\n",
    "#  [43 50]]\n",
    "\n",
    "# Dot product of vectors\n",
    "dot_product = np.dot(v1, v2)\n",
    "print(\"Dot Product:\", dot_product)\n",
    "# 11"
   ]
  },
  {
   "cell_type": "markdown",
   "metadata": {},
   "source": [
    "- Eigenvalues and Eigenvectors\n",
    "\n",
    "Q2. Compute the eigenvalues and eigenvectors of a given square matrix."
   ]
  },
  {
   "cell_type": "code",
   "execution_count": null,
   "metadata": {},
   "outputs": [],
   "source": [
    "import numpy as np\n",
    "\n",
    "# Matrix\n",
    "A = np.array([[3, 1], [2, 4]])\n",
    "\n",
    "# Eigenvalues and eigenvectors\n",
    "eigenvalues, eigenvectors = np.linalg.eig(A)\n",
    "print(\"Eigenvalues:\", eigenvalues)\n",
    "# [4.61803399 2.38196601]\n",
    "print(\"Eigenvectors:\\n\", eigenvectors)\n",
    "# [[ 0.52573111 -0.85065081]\n",
    "#  [ 0.85065081  0.52573111]]"
   ]
  },
  {
   "cell_type": "markdown",
   "metadata": {},
   "source": [
    "- Singular Value Decomposition (SVD)\n",
    "\n",
    "Q3. Perform singular value decomposition on a given matrix."
   ]
  },
  {
   "cell_type": "code",
   "execution_count": null,
   "metadata": {},
   "outputs": [],
   "source": [
    "import numpy as np\n",
    "\n",
    "# Matrix\n",
    "A = np.array([[1, 2], [3, 4], [5, 6]])\n",
    "\n",
    "# Singular Value Decomposition\n",
    "U, S, VT = np.linalg.svd(A)\n",
    "print(\"U matrix:\\n\", U)\n",
    "print(\"Singular values:\", S)\n",
    "print(\"VT matrix:\\n\", VT)"
   ]
  },
  {
   "cell_type": "markdown",
   "metadata": {},
   "source": [
    "- Solving a System of Linear Equations\n",
    "\n",
    "Solve the system of linear equations given by Ax = b."
   ]
  },
  {
   "cell_type": "code",
   "execution_count": null,
   "metadata": {},
   "outputs": [],
   "source": [
    "import numpy as np\n",
    "\n",
    "# Coefficient matrix\n",
    "A = np.array([[3, 1], [1, 2]])\n",
    "\n",
    "# Dependent variable values\n",
    "b = np.array([9, 8])\n",
    "\n",
    "# Solve for x\n",
    "x = np.linalg.solve(A, b)\n",
    "print(\"Solution for x:\", x)\n",
    "# [2. 3.]"
   ]
  },
  {
   "cell_type": "markdown",
   "metadata": {},
   "source": [
    "- Broadcasting and Element-wise Operations\n",
    "\n",
    "Q5. Given a matrix, add a vector to each row of the matrix using broadcasting."
   ]
  },
  {
   "cell_type": "code",
   "execution_count": null,
   "metadata": {},
   "outputs": [],
   "source": [
    "import numpy as np\n",
    "\n",
    "# Matrix\n",
    "A = np.array([[1, 2, 3], [4, 5, 6], [7, 8, 9]])\n",
    "\n",
    "# Vector\n",
    "v = np.array([1, 0, 1])\n",
    "\n",
    "# Broadcasting addition\n",
    "B = A + v\n",
    "print(\"Matrix after broadcasting addition:\\n\", B)\n",
    "# [[ 2  2  4]\n",
    "#  [ 5  5  7]\n",
    "#  [ 8  8 10]]"
   ]
  },
  {
   "cell_type": "markdown",
   "metadata": {},
   "source": [
    "- Generating Random Samples\n",
    "\n",
    "Q6. Generate a 3x3 matrix of random samples from a standard normal distribution."
   ]
  },
  {
   "cell_type": "code",
   "execution_count": null,
   "metadata": {},
   "outputs": [],
   "source": [
    "import numpy as np\n",
    "\n",
    "# Seed for reproducibility\n",
    "np.random.seed(0)\n",
    "\n",
    "# Random samples from standard normal distribution\n",
    "random_matrix = np.random.randn(3, 3)\n",
    "print(\"Random matrix:\\n\", random_matrix)\n",
    "# [[ 1.76405235  0.40015721  0.97873798]\n",
    "#  [ 2.2408932   1.86755799 -0.97727788]\n",
    "#  [ 0.95008842 -0.15135721 -0.10321885]]"
   ]
  },
  {
   "cell_type": "markdown",
   "metadata": {},
   "source": [
    "- Custom Universal Function (ufunc)\n",
    "\n",
    "Q7. Create a custom universal function that computes the cube of each element in an array."
   ]
  },
  {
   "cell_type": "code",
   "execution_count": null,
   "metadata": {},
   "outputs": [],
   "source": [
    "import numpy as np\n",
    "\n",
    "# Define the function\n",
    "def cube(x):\n",
    "    return x ** 3\n",
    "\n",
    "# Create a custom ufunc\n",
    "cube_ufunc = np.frompyfunc(cube, 1, 1)\n",
    "\n",
    "# Array\n",
    "arr = np.array([1, 2, 3, 4])\n",
    "\n",
    "# Apply custom ufunc\n",
    "cubed_arr = cube_ufunc(arr)\n",
    "print(\"Cubed array:\", cubed_arr)\n",
    "# [1 8 27 64]"
   ]
  },
  {
   "cell_type": "markdown",
   "metadata": {},
   "source": [
    "- Fancy Indexing\n",
    "\n",
    "Q8.  Use fancy indexing to select elements from an array that meet specific conditions."
   ]
  },
  {
   "cell_type": "code",
   "execution_count": null,
   "metadata": {},
   "outputs": [],
   "source": [
    "import numpy as np\n",
    "\n",
    "# Array\n",
    "arr = np.array([10, 20, 30, 40, 50])\n",
    "\n",
    "# Indices of elements greater than 25\n",
    "indices = np.where(arr > 25)\n",
    "print(\"Indices of elements > 25:\", indices)\n",
    "# (array([2, 3, 4]),)\n",
    "\n",
    "# Elements greater than 25\n",
    "elements = arr[indices]\n",
    "print(\"Elements > 25:\", elements)\n",
    "# [30 40 50]"
   ]
  },
  {
   "cell_type": "markdown",
   "metadata": {},
   "source": [
    "- Boolean Masking\n",
    "\n",
    "Q9. Use boolean masking to filter an array."
   ]
  },
  {
   "cell_type": "code",
   "execution_count": null,
   "metadata": {},
   "outputs": [],
   "source": [
    "import numpy as np\n",
    "\n",
    "# Array\n",
    "arr = np.array([10, 15, 20, 25, 30])\n",
    "\n",
    "# Boolean mask for elements greater than 20\n",
    "mask = arr > 20\n",
    "print(\"Boolean mask:\", mask)\n",
    "# [False False False  True  True]\n",
    "\n",
    "# Filtered array\n",
    "filtered_arr = arr[mask]\n",
    "print(\"Filtered array:\", filtered_arr)\n",
    "# [25 30]"
   ]
  },
  {
   "cell_type": "markdown",
   "metadata": {},
   "source": [
    "- Aggregation Functions\n",
    "\n",
    "Q10. Compute the mean, standard deviation, and sum of elements in an array."
   ]
  },
  {
   "cell_type": "code",
   "execution_count": null,
   "metadata": {},
   "outputs": [],
   "source": [
    "import numpy as np\n",
    "\n",
    "# Array\n",
    "arr = np.array([1, 2, 3, 4, 5])\n",
    "\n",
    "# Mean\n",
    "mean = np.mean(arr)\n",
    "print(\"Mean:\", mean)\n",
    "# 3.0\n",
    "\n",
    "# Standard deviation\n",
    "std_dev = np.std(arr)\n",
    "print(\"Standard Deviation:\", std_dev)\n",
    "# 1.4142135623730951\n",
    "\n",
    "# Sum\n",
    "sum_arr = np.sum(arr)\n",
    "print(\"Sum:\", sum_arr)\n",
    "# 15"
   ]
  }
 ],
 "metadata": {
  "language_info": {
   "name": "python"
  }
 },
 "nbformat": 4,
 "nbformat_minor": 2
}
