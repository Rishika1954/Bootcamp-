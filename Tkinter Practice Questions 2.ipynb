{
 "cells": [
  {
   "cell_type": "markdown",
   "metadata": {},
   "source": [
    "Tkinter\n",
    "\n",
    "Tkinter is the most commonly used library for developing GUI (Graphical User Interface) in Python. It is a standard Python interface to the Tk GUI toolkit shipped with Python. As Tk and Tkinter are available on most of the Unix platforms as well as on the Windows system, developing GUI applications with Tkinter becomes the fastest and easiest.\n",
    "\n",
    "The name “Tkinter” comes from “Tk interface“, referring to the Tk GUI toolkit that Tkinter is based on. Tkinter provides a way to create windows, buttons, labels, text boxes, and other GUI components to build interactive applications.\n",
    "\n",
    "Tkinter is the inbuilt python module that is used to create GUI applications. It is one of the most commonly used modules for creating GUI applications in Python as it is simple and easy to work with. Tkinter module comes with Python already. It gives an object-oriented interface to the Tk GUI toolkit. Among all, Tkinter is most widely used."
   ]
  },
  {
   "cell_type": "markdown",
   "metadata": {},
   "source": [
    "1. Write a Python script using Tkinter to create a window with a title \"My First Tkinter Window\" and dimensions 300x200."
   ]
  },
  {
   "cell_type": "code",
   "execution_count": null,
   "metadata": {},
   "outputs": [],
   "source": [
    "import tkinter as tk\n",
    "\n",
    "root = tk.Tk()\n",
    "\n",
    "root.title(\"My First Tkinter Window\")\n",
    "root.geometry(\"300x200\")\n",
    "\n",
    "root.mainloop()"
   ]
  },
  {
   "cell_type": "markdown",
   "metadata": {},
   "source": [
    "2. Create a Tkinter window with two labels and two entry fields for \"Username\" and \"Password\". Add a button that, when clicked, prints the entered values to the console."
   ]
  },
  {
   "cell_type": "code",
   "execution_count": null,
   "metadata": {},
   "outputs": [],
   "source": [
    "import tkinter as tk\n",
    "\n",
    "def on_submit():\n",
    "    username = username_entry.get()\n",
    "    password = password_entry.get()\n",
    "    print(f\"Username: {username}\")\n",
    "    print(f\"Password: {password}\")\n",
    "\n",
    "\n",
    "root = tk.Tk()\n",
    "root.title(\"Simple Form\")\n",
    "root.geometry(\"300x200\")\n",
    "\n",
    "tk.Label(root, text=\"Username:\").grid(row=0, column=0, padx=10, pady=10)\n",
    "username_entry = tk.Entry(root)\n",
    "username_entry.grid(row=0, column=1, padx=10, pady=10)\n",
    "\n",
    "tk.Label(root, text=\"Password:\").grid(row=1, column=0, padx=10, pady=10)\n",
    "password_entry = tk.Entry(root, show=\"*\")\n",
    "password_entry.grid(row=1, column=1, padx=10, pady=10)\n",
    "\n",
    "submit_button = tk.Button(root, text=\"Submit\", command=on_submit)\n",
    "submit_button.grid(row=2, columnspan=2, pady=20)\n",
    "\n",
    "root.mainloop()"
   ]
  },
  {
   "cell_type": "markdown",
   "metadata": {},
   "source": [
    "3. Create a Tkinter window with a menu bar that contains a \"File\" menu with options \"New\", \"Open\", and \"Exit\"."
   ]
  },
  {
   "cell_type": "code",
   "execution_count": null,
   "metadata": {},
   "outputs": [],
   "source": [
    "import tkinter as tk\n",
    "from tkinter import messagebox\n",
    "\n",
    "def new_file():\n",
    "    messagebox.showinfo(\"Menu\", \"New File Selected\")\n",
    "\n",
    "def open_file():\n",
    "    messagebox.showinfo(\"Menu\", \"Open File Selected\")\n",
    "\n",
    "def exit_app():\n",
    "    root.quit()\n",
    "\n",
    "\n",
    "root = tk.Tk()\n",
    "root.title(\"Menu Example\")\n",
    "root.geometry(\"300x200\")\n",
    "\n",
    "menu_bar = tk.Menu(root)\n",
    "\n",
    "file_menu = tk.Menu(menu_bar, tearoff=0)\n",
    "file_menu.add_command(label=\"New\", command=new_file)\n",
    "file_menu.add_command(label=\"Open\", command=open_file)\n",
    "file_menu.add_separator()\n",
    "file_menu.add_command(label=\"Exit\", command=exit_app)\n",
    "menu_bar.add_cascade(label=\"File\", menu=file_menu)\n",
    "\n",
    "root.config(menu=menu_bar)\n",
    "\n",
    "\n",
    "root.mainloop()"
   ]
  },
  {
   "cell_type": "markdown",
   "metadata": {},
   "source": [
    "4. Create a Tkinter window with a button that, when clicked, displays a message box with an \"OK\" button."
   ]
  },
  {
   "cell_type": "code",
   "execution_count": null,
   "metadata": {},
   "outputs": [],
   "source": [
    "import tkinter as tk\n",
    "from tkinter import messagebox\n",
    "\n",
    "def show_message():\n",
    "    messagebox.showinfo(\"Message\", \"This is a message box\")\n",
    "\n",
    "\n",
    "root = tk.Tk()\n",
    "root.title(\"Message Box Example\")\n",
    "root.geometry(\"300x200\")\n",
    "\n",
    "message_button = tk.Button(root, text=\"Show Message\", command=show_message)\n",
    "message_button.pack(pady=20)\n",
    "\n",
    "\n",
    "root.mainloop()"
   ]
  },
  {
   "cell_type": "markdown",
   "metadata": {},
   "source": [
    "5. Create a Tkinter window with a Text widget. Add a button that prints the content of the Text widget to the console when clicked."
   ]
  },
  {
   "cell_type": "code",
   "execution_count": null,
   "metadata": {},
   "outputs": [],
   "source": [
    "import tkinter as tk\n",
    "\n",
    "def print_text():\n",
    "    content = text_widget.get(\"1.0\", tk.END)\n",
    "    print(content)\n",
    "\n",
    "\n",
    "root = tk.Tk()\n",
    "root.title(\"Text Widget Example\")\n",
    "root.geometry(\"400x300\")\n",
    "\n",
    "\n",
    "text_widget = tk.Text(root, wrap=tk.WORD, height=10, width=40)\n",
    "text_widget.pack(pady=20)\n",
    "\n",
    "\n",
    "print_button = tk.Button(root, text=\"Print Text\", command=print_text)\n",
    "print_button.pack(pady=10)\n",
    "\n",
    "\n",
    "root.mainloop()"
   ]
  },
  {
   "cell_type": "markdown",
   "metadata": {},
   "source": [
    "6. Create a Tkinter window with a button that opens a color picker dialog. Display the selected color in a label."
   ]
  },
  {
   "cell_type": "code",
   "execution_count": null,
   "metadata": {},
   "outputs": [],
   "source": [
    "\n",
    "import tkinter as tk\n",
    "from tkinter import colorchooser\n",
    "\n",
    "def pick_color():\n",
    "    color_code = colorchooser.askcolor(title=\"Choose a color\")[1]\n",
    "    if color_code:\n",
    "        color_label.config(text=f\"Selected Color: {color_code}\", bg=color_code)\n",
    "\n",
    "\n",
    "root = tk.Tk()\n",
    "root.title(\"Color Picker Example\")\n",
    "root.geometry(\"300x200\")\n",
    "\n",
    "color_button = tk.Button(root, text=\"Pick a Color\", command=pick_color)\n",
    "color_button.pack(pady=20)\n",
    "\n",
    "color_label = tk.Label(root, text=\"Selected Color: None\")\n",
    "color_label.pack(pady=10)\n",
    "\n",
    "\n",
    "root.mainloop()"
   ]
  },
  {
   "cell_type": "markdown",
   "metadata": {},
   "source": [
    "7. Create a Tkinter window with a Progress Bar widget. Add a button that starts the progress bar when clicked."
   ]
  },
  {
   "cell_type": "code",
   "execution_count": null,
   "metadata": {},
   "outputs": [],
   "source": [
    "import tkinter as tk\n",
    "from tkinter import ttk\n",
    "\n",
    "def start_progress():\n",
    "    progress_bar.start()\n",
    "\n",
    "\n",
    "root = tk.Tk()\n",
    "root.title(\"Progress Bar Example\")\n",
    "root.geometry(\"300x200\")\n",
    "\n",
    "progress_bar = ttk.Progressbar(root, orient=tk.HORIZONTAL, length=200, mode='indeterminate')\n",
    "progress_bar.pack(pady=20)\n",
    "\n",
    "start_button = tk.Button(root, text=\"Start Progress\", command=start_progress)\n",
    "start_button.pack(pady=10)\n",
    "\n",
    "\n",
    "root.mainloop()"
   ]
  }
 ],
 "metadata": {
  "language_info": {
   "name": "python"
  }
 },
 "nbformat": 4,
 "nbformat_minor": 2
}
