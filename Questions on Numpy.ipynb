{
 "cells": [
  {
   "cell_type": "markdown",
   "metadata": {},
   "source": [
    "Introduction to NumPy:-\n",
    "\n",
    "NumPy is a powerful library for numerical computing in Python. It provides support for arrays, which are multi-dimensional containers of items of the same type. It offers various functions to perform operations on these arrays efficiently."
   ]
  },
  {
   "cell_type": "markdown",
   "metadata": {},
   "source": [
    "1. Applying a Function Element-wise\n",
    "\n",
    "Q1: Apply a custom function element-wise to a NumPy array without using loops."
   ]
  },
  {
   "cell_type": "code",
   "execution_count": null,
   "metadata": {},
   "outputs": [],
   "source": [
    "import numpy as np\n",
    "\n",
    "# Define the function\n",
    "def square_and_add(x):\n",
    "    return x**2 + 10\n",
    "\n",
    "# Array\n",
    "arr = np.array([1, 2, 3, 4])\n",
    "\n",
    "# Apply the function element-wise\n",
    "result = np.vectorize(square_and_add)(arr)\n",
    "print(\"Result:\", result)\n",
    "# [11 14 19 26]"
   ]
  },
  {
   "cell_type": "markdown",
   "metadata": {},
   "source": [
    "2. Outer Product of Vectors\n",
    "\n",
    "Q2: Compute the outer product of two vectors."
   ]
  },
  {
   "cell_type": "code",
   "execution_count": null,
   "metadata": {},
   "outputs": [],
   "source": [
    "import numpy as np\n",
    "\n",
    "# Vectors\n",
    "v1 = np.array([1, 2, 3])\n",
    "v2 = np.array([4, 5, 6])\n",
    "\n",
    "# Outer product\n",
    "outer_product = np.outer(v1, v2)\n",
    "print(\"Outer Product:\\n\", outer_product)\n",
    "# [[ 4  5  6]\n",
    "#  [ 8 10 12]\n",
    "#  [12 15 18]]"
   ]
  },
  {
   "cell_type": "markdown",
   "metadata": {},
   "source": [
    "3. Diagonal and Trace of a Matrix\n",
    "\n",
    "Q3: Extract the diagonal of a matrix and compute its trace."
   ]
  },
  {
   "cell_type": "code",
   "execution_count": null,
   "metadata": {},
   "outputs": [],
   "source": [
    "import numpy as np\n",
    "\n",
    "# Matrix\n",
    "A = np.array([[1, 2, 3], [4, 5, 6], [7, 8, 9]])\n",
    "\n",
    "# Diagonal\n",
    "diagonal = np.diag(A)\n",
    "print(\"Diagonal:\", diagonal)\n",
    "# [1 5 9]\n",
    "\n",
    "# Trace\n",
    "trace = np.trace(A)\n",
    "print(\"Trace:\", trace)\n",
    "# 15"
   ]
  },
  {
   "cell_type": "markdown",
   "metadata": {},
   "source": [
    "4. Compute the Inverse of a Matrix\n",
    "\n",
    "Q4: Compute the inverse of a given square matrix."
   ]
  },
  {
   "cell_type": "code",
   "execution_count": null,
   "metadata": {},
   "outputs": [],
   "source": [
    "import numpy as np\n",
    "\n",
    "# Matrix\n",
    "A = np.array([[1, 2], [3, 4]])\n",
    "\n",
    "# Inverse\n",
    "inverse = np.linalg.inv(A)\n",
    "print(\"Inverse:\\n\", inverse)\n",
    "# [[-2.   1. ]\n",
    "#  [ 1.5 -0.5]]"
   ]
  },
  {
   "cell_type": "markdown",
   "metadata": {},
   "source": [
    "5. Finding the Determinant of a Matrix\n",
    "\n",
    "Q5: Compute the determinant of a given square matrix."
   ]
  },
  {
   "cell_type": "code",
   "execution_count": null,
   "metadata": {},
   "outputs": [],
   "source": [
    "import numpy as np\n",
    "\n",
    "# Matrix\n",
    "A = np.array([[1, 2], [3, 4]])\n",
    "\n",
    "# Determinant\n",
    "determinant = np.linalg.det(A)\n",
    "print(\"Determinant:\", determinant)\n",
    "# -2.0000000000000004"
   ]
  },
  {
   "cell_type": "markdown",
   "metadata": {},
   "source": [
    "6. Generating a Random Permutation\n",
    "\n",
    "Q6: Generate a random permutation of a given array."
   ]
  },
  {
   "cell_type": "code",
   "execution_count": null,
   "metadata": {},
   "outputs": [],
   "source": [
    "import numpy as np\n",
    "\n",
    "# Array\n",
    "arr = np.array([1, 2, 3, 4, 5])\n",
    "\n",
    "# Random permutation\n",
    "permuted_arr = np.random.permutation(arr)\n",
    "print(\"Random Permutation:\", permuted_arr)"
   ]
  },
  {
   "cell_type": "markdown",
   "metadata": {},
   "source": [
    "7. Polynomial Fitting\n",
    "\n",
    "Q7: Fit a polynomial of a specified degree to a set of data points."
   ]
  },
  {
   "cell_type": "code",
   "execution_count": null,
   "metadata": {},
   "outputs": [],
   "source": [
    "import numpy as np\n",
    "\n",
    "# Data points\n",
    "x = np.array([0, 1, 2, 3, 4, 5])\n",
    "y = np.array([2, 3, 5, 7, 11, 13])\n",
    "\n",
    "# Polynomial fitting\n",
    "degree = 2\n",
    "coefficients = np.polyfit(x, y, degree)\n",
    "print(\"Polynomial Coefficients:\", coefficients)\n",
    "# Polynomial coefficients will vary depending on the data points"
   ]
  },
  {
   "cell_type": "markdown",
   "metadata": {},
   "source": [
    "8. Creating a Toeplitz Matrix\n",
    "\n",
    "Q8: Create a Toeplitz matrix (constant diagonals) given a vector."
   ]
  },
  {
   "cell_type": "code",
   "execution_count": null,
   "metadata": {},
   "outputs": [],
   "source": [
    "import numpy as np\n",
    "from scipy.linalg import toeplitz\n",
    "\n",
    "# Vector\n",
    "c = np.array([1, 2, 3, 4])\n",
    "\n",
    "# Toeplitz matrix\n",
    "toeplitz_matrix = toeplitz(c)\n",
    "print(\"Toeplitz Matrix:\\n\", toeplitz_matrix)\n",
    "# [[1 2 3 4]\n",
    "#  [2 1 2 3]\n",
    "#  [3 2 1 2]\n",
    "#  [4 3 2 1]]"
   ]
  },
  {
   "cell_type": "markdown",
   "metadata": {},
   "source": [
    "9. Rolling Window View\n",
    "\n",
    "Q9: Create a rolling window view of a 1D array with a specified window size."
   ]
  },
  {
   "cell_type": "code",
   "execution_count": null,
   "metadata": {},
   "outputs": [],
   "source": [
    "import numpy as np\n",
    "\n",
    "# Array\n",
    "arr = np.array([1, 2, 3, 4, 5, 6])\n",
    "\n",
    "# Rolling window function\n",
    "def rolling_window(a, window):\n",
    "    shape = a.shape[:-1] + (a.shape[-1] - window + 1, window)\n",
    "    strides = a.strides + (a.strides[-1],)\n",
    "    return np.lib.stride_tricks.as_strided(a, shape=shape, strides=strides)\n",
    "\n",
    "# Rolling window view\n",
    "window_size = 3\n",
    "rolled_view = rolling_window(arr, window_size)\n",
    "print(\"Rolled View:\\n\", rolled_view)\n",
    "# [[1 2 3]\n",
    "#  [2 3 4]\n",
    "#  [3 4 5]\n",
    "#  [4 5 6]]"
   ]
  },
  {
   "cell_type": "markdown",
   "metadata": {},
   "source": [
    "10. Masking and Filtering with Conditions\n",
    "\n",
    "Q10: Given a 2D array, filter rows where the sum of elements is greater than a specified value."
   ]
  },
  {
   "cell_type": "code",
   "execution_count": null,
   "metadata": {},
   "outputs": [],
   "source": [
    "import numpy as np\n",
    "\n",
    "# 2D Array\n",
    "A = np.array([[1, 2, 3], [4, 5, 6], [7, 8, 9], [10, 11, 12]])\n",
    "\n",
    "# Condition: Sum of elements greater than 15\n",
    "condition = np.sum(A, axis=1) > 15\n",
    "filtered_rows = A[condition]\n",
    "print(\"Filtered Rows:\\n\", filtered_rows)\n",
    "# [[ 7  8  9]\n",
    "#  [10 11 12]]"
   ]
  }
 ],
 "metadata": {
  "language_info": {
   "name": "python"
  }
 },
 "nbformat": 4,
 "nbformat_minor": 2
}
