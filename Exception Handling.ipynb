{
 "cells": [
  {
   "cell_type": "markdown",
   "metadata": {},
   "source": [
    "Exception Handling in Python\n",
    "\n",
    "Exception handling in Python is a mechanism for responding to runtime errors in a controlled manner. It allows you to manage and respond to different error conditions that may occur during the execution of your program.\n",
    "\n",
    "Key Concepts\n",
    "1. Exception: An event, which occurs during the execution of a program, that disrupts the normal flow of the program's instructions.\n",
    "\n",
    "2. Try Block: The block of code where you attempt to execute code that may potentially cause an exception.\n",
    "3. Except Block: The block of code that will be executed if an exception occurs in the try block.\n",
    "4. Else Block: A block of code that will be executed if no exception occurs.\n",
    "5. Finally Block: A block of code that will be executed no matter what, whether an exception occurs or not."
   ]
  },
  {
   "cell_type": "markdown",
   "metadata": {},
   "source": [
    "Basic Exception Handling:-"
   ]
  },
  {
   "cell_type": "code",
   "execution_count": null,
   "metadata": {},
   "outputs": [],
   "source": [
    "# Q1. Write a function that takes two numbers as inputs and returns their division. Handle the case where the second number is zero.\n",
    "\n",
    "def divide_numbers(a, b):\n",
    "    try:\n",
    "        return a / b\n",
    "    except ZeroDivisionError:\n",
    "        return \"Division by zero is not allowed.\"\n",
    "\n",
    "# Example usage\n",
    "print(divide_numbers(10, 2))  \n",
    "print(divide_numbers(10, 0))  "
   ]
  },
  {
   "cell_type": "markdown",
   "metadata": {},
   "source": [
    "Handling Multiple Exceptions"
   ]
  },
  {
   "cell_type": "code",
   "execution_count": null,
   "metadata": {},
   "outputs": [],
   "source": [
    "# Q2. Write a function that converts a string to an integer and returns its square. Handle exceptions for invalid inputs and display appropriate error messages.\n",
    "\n",
    "def square_of_string(s):\n",
    "    try:\n",
    "        num = int(s)\n",
    "        return num ** 2\n",
    "    except ValueError:\n",
    "        return \"Invalid input: Please enter a valid integer.\"\n",
    "\n",
    "# Example usage\n",
    "print(square_of_string(\"4\"))  \n",
    "print(square_of_string(\"a\"))  "
   ]
  },
  {
   "cell_type": "markdown",
   "metadata": {},
   "source": [
    "Custom Exception"
   ]
  },
  {
   "cell_type": "code",
   "execution_count": null,
   "metadata": {},
   "outputs": [],
   "source": [
    "# Q3. Create a custom exception NegativeNumberError that is raised when a function receives a negative number as an argument.\n",
    "\n",
    "class NegativeNumberError(Exception):\n",
    "    pass\n",
    "\n",
    "def check_positive_number(num):\n",
    "    if num < 0:\n",
    "        raise NegativeNumberError(\"Negative numbers are not allowed.\")\n",
    "    return num\n",
    "\n",
    "# Example usage\n",
    "try:\n",
    "    print(check_positive_number(10))  \n",
    "    print(check_positive_number(-5))  \n",
    "except NegativeNumberError as e:\n",
    "    print(e)  "
   ]
  },
  {
   "cell_type": "markdown",
   "metadata": {},
   "source": [
    "Reading Files with Exception Handling"
   ]
  },
  {
   "cell_type": "code",
   "execution_count": null,
   "metadata": {},
   "outputs": [],
   "source": [
    "# Q4. Write a function read_file that reads the content of a file and returns it as a string. Handle the case where the file does not exist by returning \"File not found\".\n",
    "\n",
    "def read_file(filename):\n",
    "    try:\n",
    "        with open(filename, 'r') as file:\n",
    "            content = file.read()\n",
    "            return content\n",
    "    except FileNotFoundError:\n",
    "        return \"File not found\"\n",
    "\n",
    "# Example usage\n",
    "print(read_file(\"example.txt\"))  "
   ]
  },
  {
   "cell_type": "markdown",
   "metadata": {},
   "source": [
    "Nested Exception Handling"
   ]
  },
  {
   "cell_type": "code",
   "execution_count": null,
   "metadata": {},
   "outputs": [],
   "source": [
    "# Q5. Write a function nested_exception that tries to convert a string to an integer and then divides 100 by that integer. Handle both ValueError for invalid integer conversion and ZeroDivisionError for division by zero.\n",
    "\n",
    "def nested_exception(s):\n",
    "    try:\n",
    "        num = int(s)\n",
    "        try:\n",
    "            result = 100 / num\n",
    "            return result\n",
    "        except ZeroDivisionError:\n",
    "            return \"Cannot divide by zero\"\n",
    "    except ValueError:\n",
    "        return \"Invalid input\"\n",
    "\n",
    "# Example usage\n",
    "print(nested_exception(\"10\"))  \n",
    "print(nested_exception(\"0\"))  \n",
    "print(nested_exception(\"abc\")) "
   ]
  },
  {
   "cell_type": "markdown",
   "metadata": {},
   "source": [
    "Using Finally Block"
   ]
  },
  {
   "cell_type": "code",
   "execution_count": null,
   "metadata": {},
   "outputs": [],
   "source": [
    "# Q6. Write a function that opens a file, reads its content, and returns the number of lines in the file. Ensure that the file is always closed, even if an error occurs.\n",
    "\n",
    "def count_lines_in_file(filename):\n",
    "    try:\n",
    "        file = open(filename, 'r')\n",
    "        lines = file.readlines()\n",
    "        return len(lines)\n",
    "    except FileNotFoundError:\n",
    "        return \"File not found.\"\n",
    "    finally:\n",
    "        try:\n",
    "            file.close()\n",
    "        except UnboundLocalError:\n",
    "            pass\n",
    "\n",
    "# Example usage\n",
    "print(count_lines_in_file(\"example.txt\"))  "
   ]
  }
 ],
 "metadata": {
  "language_info": {
   "name": "python"
  }
 },
 "nbformat": 4,
 "nbformat_minor": 2
}
